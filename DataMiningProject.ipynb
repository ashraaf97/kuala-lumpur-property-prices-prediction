{
  "nbformat": 4,
  "nbformat_minor": 0,
  "metadata": {
    "colab": {
      "name": "DataMiningProject.ipynb",
      "provenance": [],
      "collapsed_sections": []
    },
    "kernelspec": {
      "name": "python3",
      "display_name": "Python 3"
    }
  },
  "cells": [
    {
      "cell_type": "markdown",
      "metadata": {
        "id": "wYHwtly5n6A0",
        "colab_type": "text"
      },
      "source": [
        "Special Thanks to Jan S, Data Scientist in Kaggle for his data on property prices in Kuala Lumpur that are scrapped from website iProperty (https://www.iproperty.com.my/). Link for data https://www.kaggle.com/dragonduck/property-listings-in-kuala-lumpur"
      ]
    },
    {
      "cell_type": "markdown",
      "metadata": {
        "id": "Sk-2l2SLottu",
        "colab_type": "text"
      },
      "source": [
        "From here we can make a statistical analysis. We will also try to build a predictive model based on the data available."
      ]
    },
    {
      "cell_type": "markdown",
      "metadata": {
        "id": "kMw2P0bKl_i0",
        "colab_type": "text"
      },
      "source": [
        "Mounting the data from google drive into Google Colab"
      ]
    },
    {
      "cell_type": "code",
      "metadata": {
        "id": "36GxlsMZA5Iw",
        "colab_type": "code",
        "colab": {
          "base_uri": "https://localhost:8080/",
          "height": 128
        },
        "outputId": "0a8bdd54-c561-4c65-ee6b-14aa12e139f2"
      },
      "source": [
        "from google.colab import drive\n",
        "drive.mount('/content/drive')"
      ],
      "execution_count": null,
      "outputs": [
        {
          "output_type": "stream",
          "text": [
            "Go to this URL in a browser: https://accounts.google.com/o/oauth2/auth?client_id=947318989803-6bn6qk8qdgf4n4g3pfee6491hc0brc4i.apps.googleusercontent.com&redirect_uri=urn%3aietf%3awg%3aoauth%3a2.0%3aoob&response_type=code&scope=email%20https%3a%2f%2fwww.googleapis.com%2fauth%2fdocs.test%20https%3a%2f%2fwww.googleapis.com%2fauth%2fdrive%20https%3a%2f%2fwww.googleapis.com%2fauth%2fdrive.photos.readonly%20https%3a%2f%2fwww.googleapis.com%2fauth%2fpeopleapi.readonly\n",
            "\n",
            "Enter your authorization code:\n",
            "··········\n",
            "Mounted at /content/drive\n"
          ],
          "name": "stdout"
        }
      ]
    },
    {
      "cell_type": "markdown",
      "metadata": {
        "id": "elGjAvclDJ19",
        "colab_type": "text"
      },
      "source": [
        "Importing All Important Libraries"
      ]
    },
    {
      "cell_type": "code",
      "metadata": {
        "id": "7sX_E9bJG5DF",
        "colab_type": "code",
        "colab": {
          "base_uri": "https://localhost:8080/",
          "height": 92
        },
        "outputId": "ca6b0175-ae92-4bf6-c6b1-11d6f91220d6"
      },
      "source": [
        "import numpy as np\n",
        "np.random.seed(101)\n",
        "import requests\n",
        "import time\n",
        "import os\n",
        "import requests\n",
        "from bs4 import BeautifulSoup\n",
        "import pandas as pd\n",
        "import os\n",
        "import re\n",
        "import seaborn as sns\n",
        "%matplotlib inline\n",
        "import matplotlib.pyplot as plt\n",
        "import sklearn.model_selection\n",
        "import sklearn.linear_model\n",
        "import sklearn.feature_selection\n",
        "import sklearn.preprocessing\n",
        "import sklearn.metrics\n",
        "import keras.models\n",
        "import keras.layers\n",
        "from sklearn.metrics import mean_absolute_error\n",
        "from sklearn.metrics import mean_squared_error\n",
        "import statsmodels.api as sm\n",
        "from statsmodels.sandbox.regression.predstd import wls_prediction_std"
      ],
      "execution_count": null,
      "outputs": [
        {
          "output_type": "stream",
          "text": [
            "/usr/local/lib/python3.6/dist-packages/statsmodels/tools/_testing.py:19: FutureWarning: pandas.util.testing is deprecated. Use the functions in the public API at pandas.testing instead.\n",
            "  import pandas.util.testing as tm\n",
            "Using TensorFlow backend.\n"
          ],
          "name": "stderr"
        }
      ]
    },
    {
      "cell_type": "markdown",
      "metadata": {
        "id": "BqHrQFnumMDa",
        "colab_type": "text"
      },
      "source": [
        "CHAPTER 1: DATA PREPROCESSING"
      ]
    },
    {
      "cell_type": "markdown",
      "metadata": {
        "id": "apaWFvRDmYnp",
        "colab_type": "text"
      },
      "source": [
        "The raw data that collected in kaggle need to be processed to get a clean data that can be used in the analysis. The data also needs to be standardized for our use. Some of fields for particular property is empty"
      ]
    },
    {
      "cell_type": "markdown",
      "metadata": {
        "id": "FiI_aNBRDmoc",
        "colab_type": "text"
      },
      "source": [
        "Loading the data into properties variable. The data is put into pandas data frame. Here Pandas Library is used."
      ]
    },
    {
      "cell_type": "code",
      "metadata": {
        "id": "Pr2tcQvrG8Py",
        "colab_type": "code",
        "colab": {}
      },
      "source": [
        "properties = pd.read_csv(\"/content/drive/My Drive/malaysia_data.csv\")"
      ],
      "execution_count": null,
      "outputs": []
    },
    {
      "cell_type": "markdown",
      "metadata": {
        "id": "jOGgy2i5Dyu0",
        "colab_type": "text"
      },
      "source": [
        "We check for the data after loading. .head() function simply shows first five items of the data frame."
      ]
    },
    {
      "cell_type": "code",
      "metadata": {
        "id": "WZbGJl7SHFTH",
        "colab_type": "code",
        "colab": {
          "base_uri": "https://localhost:8080/",
          "height": 206
        },
        "outputId": "d947ae70-a062-4ccd-d86a-6fc629d48cac"
      },
      "source": [
        "properties.head()"
      ],
      "execution_count": null,
      "outputs": [
        {
          "output_type": "execute_result",
          "data": {
            "text/html": [
              "<div>\n",
              "<style scoped>\n",
              "    .dataframe tbody tr th:only-of-type {\n",
              "        vertical-align: middle;\n",
              "    }\n",
              "\n",
              "    .dataframe tbody tr th {\n",
              "        vertical-align: top;\n",
              "    }\n",
              "\n",
              "    .dataframe thead th {\n",
              "        text-align: right;\n",
              "    }\n",
              "</style>\n",
              "<table border=\"1\" class=\"dataframe\">\n",
              "  <thead>\n",
              "    <tr style=\"text-align: right;\">\n",
              "      <th></th>\n",
              "      <th>Location</th>\n",
              "      <th>Price</th>\n",
              "      <th>Rooms</th>\n",
              "      <th>Bathrooms</th>\n",
              "      <th>Car Parks</th>\n",
              "      <th>Property Type</th>\n",
              "      <th>Size</th>\n",
              "      <th>Furnishing</th>\n",
              "    </tr>\n",
              "  </thead>\n",
              "  <tbody>\n",
              "    <tr>\n",
              "      <th>0</th>\n",
              "      <td>KLCC, Kuala Lumpur</td>\n",
              "      <td>RM 1,250,000</td>\n",
              "      <td>2+1</td>\n",
              "      <td>3.0</td>\n",
              "      <td>2.0</td>\n",
              "      <td>Serviced Residence</td>\n",
              "      <td>Built-up : 1,335 sq. ft.</td>\n",
              "      <td>Fully Furnished</td>\n",
              "    </tr>\n",
              "    <tr>\n",
              "      <th>1</th>\n",
              "      <td>Damansara Heights, Kuala Lumpur</td>\n",
              "      <td>RM 6,800,000</td>\n",
              "      <td>6</td>\n",
              "      <td>7.0</td>\n",
              "      <td>NaN</td>\n",
              "      <td>Bungalow</td>\n",
              "      <td>Land area : 6900 sq. ft.</td>\n",
              "      <td>Partly Furnished</td>\n",
              "    </tr>\n",
              "    <tr>\n",
              "      <th>2</th>\n",
              "      <td>Dutamas, Kuala Lumpur</td>\n",
              "      <td>RM 1,030,000</td>\n",
              "      <td>3</td>\n",
              "      <td>4.0</td>\n",
              "      <td>2.0</td>\n",
              "      <td>Condominium (Corner)</td>\n",
              "      <td>Built-up : 1,875 sq. ft.</td>\n",
              "      <td>Partly Furnished</td>\n",
              "    </tr>\n",
              "    <tr>\n",
              "      <th>3</th>\n",
              "      <td>Cheras, Kuala Lumpur</td>\n",
              "      <td>NaN</td>\n",
              "      <td>NaN</td>\n",
              "      <td>NaN</td>\n",
              "      <td>NaN</td>\n",
              "      <td>NaN</td>\n",
              "      <td>NaN</td>\n",
              "      <td>NaN</td>\n",
              "    </tr>\n",
              "    <tr>\n",
              "      <th>4</th>\n",
              "      <td>Bukit Jalil, Kuala Lumpur</td>\n",
              "      <td>RM 900,000</td>\n",
              "      <td>4+1</td>\n",
              "      <td>3.0</td>\n",
              "      <td>2.0</td>\n",
              "      <td>Condominium (Corner)</td>\n",
              "      <td>Built-up : 1,513 sq. ft.</td>\n",
              "      <td>Partly Furnished</td>\n",
              "    </tr>\n",
              "  </tbody>\n",
              "</table>\n",
              "</div>"
            ],
            "text/plain": [
              "                          Location  ...        Furnishing\n",
              "0               KLCC, Kuala Lumpur  ...   Fully Furnished\n",
              "1  Damansara Heights, Kuala Lumpur  ...  Partly Furnished\n",
              "2            Dutamas, Kuala Lumpur  ...  Partly Furnished\n",
              "3             Cheras, Kuala Lumpur  ...               NaN\n",
              "4        Bukit Jalil, Kuala Lumpur  ...  Partly Furnished\n",
              "\n",
              "[5 rows x 8 columns]"
            ]
          },
          "metadata": {
            "tags": []
          },
          "execution_count": 4
        }
      ]
    },
    {
      "cell_type": "markdown",
      "metadata": {
        "id": "5jRxuRCDrtN7",
        "colab_type": "text"
      },
      "source": [
        "As we can see here not all field is filled. Some of the field in the form that ease us to analyse the data"
      ]
    },
    {
      "cell_type": "markdown",
      "metadata": {
        "id": "80moLIEKsYG1",
        "colab_type": "text"
      },
      "source": [
        "Here we remove properties without price. isna() is the function to detect any missing data in the data frame.\n"
      ]
    },
    {
      "cell_type": "code",
      "metadata": {
        "id": "9yLSmgnkHLut",
        "colab_type": "code",
        "colab": {}
      },
      "source": [
        "properties = properties.loc[~properties[\"Price\"].isna()]"
      ],
      "execution_count": null,
      "outputs": []
    },
    {
      "cell_type": "markdown",
      "metadata": {
        "id": "xK2In6VXso0n",
        "colab_type": "text"
      },
      "source": [
        "Then, we search for data that has wrong price format. The format should contain value or comma after RM. If there is missing data it will shows up the count."
      ]
    },
    {
      "cell_type": "code",
      "metadata": {
        "id": "7YKZbhWEHZfa",
        "colab_type": "code",
        "colab": {
          "base_uri": "https://localhost:8080/",
          "height": 35
        },
        "outputId": "42821b30-a16f-471f-98d2-f210d15d28d2"
      },
      "source": [
        "incorrect_entries = np.sum(~properties[\"Price\"].str.match(r\"RM [0-9,]*$\"))\n",
        "print(\"There are {} entries in the wrong format.\".format(incorrect_entries))"
      ],
      "execution_count": null,
      "outputs": [
        {
          "output_type": "stream",
          "text": [
            "There are 0 entries in the wrong format.\n"
          ],
          "name": "stdout"
        }
      ]
    },
    {
      "cell_type": "markdown",
      "metadata": {
        "id": "XfBg0YGpEaMR",
        "colab_type": "text"
      },
      "source": [
        "The we strip the price. This is done to standardized the data."
      ]
    },
    {
      "cell_type": "code",
      "metadata": {
        "id": "xVYN7nlBI8kI",
        "colab_type": "code",
        "colab": {}
      },
      "source": [
        "def strip_price(text):\n",
        "    text = text.replace(\"RM\", \"\")\n",
        "    text = text.replace(\",\", \"\")\n",
        "    text = text.strip()\n",
        "    return int(text)\n",
        "    \n",
        "properties[\"Price\"] = properties[\"Price\"].apply(strip_price)"
      ],
      "execution_count": null,
      "outputs": []
    },
    {
      "cell_type": "markdown",
      "metadata": {
        "id": "H6GGwPt5ugbU",
        "colab_type": "text"
      },
      "source": [
        "Another problem is capitalization,some of the data is captialized some is not. We want all of the to be lower case, so we convert them. City name is removed as all of properties are from Kuala Lumpur."
      ]
    },
    {
      "cell_type": "code",
      "metadata": {
        "id": "z9U5HfAKJDp1",
        "colab_type": "code",
        "colab": {}
      },
      "source": [
        "properties[\"Location\"] = properties[\"Location\"].str.lower()\n",
        "properties[\"Location\"] = properties[\"Location\"].str.replace(r\", kuala lumpur$\", \"\")"
      ],
      "execution_count": null,
      "outputs": []
    },
    {
      "cell_type": "markdown",
      "metadata": {
        "id": "yapvTMl-vDAa",
        "colab_type": "text"
      },
      "source": [
        "So here we can see the all the location listed in the entries. Sorted fucntion simply sort the data beginning with 'a' until 'z'."
      ]
    },
    {
      "cell_type": "code",
      "metadata": {
        "id": "h5n1DkrtJQt_",
        "colab_type": "code",
        "colab": {
          "base_uri": "https://localhost:8080/",
          "height": 1000
        },
        "outputId": "c035ea6d-3cc6-47d3-90e4-db659d319967"
      },
      "source": [
        "sorted(properties[\"Location\"].unique())"
      ],
      "execution_count": null,
      "outputs": [
        {
          "output_type": "execute_result",
          "data": {
            "text/plain": [
              "['adiva desa parkcity',\n",
              " 'alam damai',\n",
              " 'ampang',\n",
              " 'ampang hilir',\n",
              " 'bandar damai perdana',\n",
              " 'bandar menjalara',\n",
              " 'bandar sri damansara',\n",
              " 'bandar tasik selatan',\n",
              " 'bangsar',\n",
              " 'bangsar south',\n",
              " 'batu caves',\n",
              " 'brickfields',\n",
              " 'bukit  persekutuan',\n",
              " 'bukit bintang',\n",
              " 'bukit damansara',\n",
              " 'bukit jalil',\n",
              " 'bukit kiara',\n",
              " 'bukit ledang',\n",
              " 'bukit tunku (kenny hills)',\n",
              " 'canary residence',\n",
              " 'casa rimba',\n",
              " 'chan sow lin',\n",
              " 'cheras',\n",
              " 'city centre',\n",
              " 'country heights damansara',\n",
              " 'cyberjaya',\n",
              " 'damansara',\n",
              " 'damansara heights',\n",
              " 'desa pandan',\n",
              " 'desa parkcity',\n",
              " 'desa petaling',\n",
              " 'duta nusantara',\n",
              " 'dutamas',\n",
              " 'federal hill',\n",
              " 'gombak',\n",
              " 'gurney',\n",
              " 'happy garden',\n",
              " 'jalan ipoh',\n",
              " 'jalan klang lama (old klang road)',\n",
              " 'jalan kuching',\n",
              " 'jalan sultan ismail',\n",
              " 'jalan u-thant',\n",
              " 'jinjang',\n",
              " 'kemensah',\n",
              " 'kepong',\n",
              " 'keramat',\n",
              " 'kl city',\n",
              " 'kl eco city',\n",
              " 'kl sentral',\n",
              " 'klcc',\n",
              " 'kota damansara',\n",
              " 'kuala lumpur',\n",
              " 'kuchai lama',\n",
              " 'landed sd',\n",
              " 'mid valley city',\n",
              " 'mont kiara',\n",
              " 'off gasing indah,',\n",
              " 'other',\n",
              " 'oug',\n",
              " 'pandan indah',\n",
              " 'pandan jaya',\n",
              " 'pandan perdana',\n",
              " 'pantai',\n",
              " 'petaling jaya',\n",
              " 'puchong',\n",
              " 'rawang',\n",
              " 'salak selatan',\n",
              " 'santuari park pantai',\n",
              " 'segambut',\n",
              " 'semarak',\n",
              " 'sentul',\n",
              " 'seputeh',\n",
              " 'seri kembangan',\n",
              " 'setapak',\n",
              " 'setiawangsa',\n",
              " 'singapore',\n",
              " 'solaris dutamas',\n",
              " 'sri damansara',\n",
              " 'sri hartamas',\n",
              " 'sri kembangan',\n",
              " 'sri petaling',\n",
              " 'sungai besi',\n",
              " 'sungai long sl8',\n",
              " 'sungai penchala',\n",
              " 'sunway spk',\n",
              " 'taman cheras perdana',\n",
              " 'taman connaught',\n",
              " 'taman desa',\n",
              " 'taman duta',\n",
              " 'taman ibukota',\n",
              " 'taman melati',\n",
              " 'taman melawati',\n",
              " 'taman sri keramat',\n",
              " 'taman tar',\n",
              " 'taman tun dr ismail',\n",
              " 'taman wangsa permai',\n",
              " 'taman yarl',\n",
              " 'taman yarl oug',\n",
              " 'taman yarl, uog',\n",
              " 'taming jaya',\n",
              " 'the mines resort',\n",
              " 'titiwangsa',\n",
              " 'u-thant',\n",
              " 'ukay heights',\n",
              " 'wangsa maju',\n",
              " 'wangsa melawati']"
            ]
          },
          "metadata": {
            "tags": []
          },
          "execution_count": 9
        }
      ]
    },
    {
      "cell_type": "markdown",
      "metadata": {
        "id": "RYhYTRN-vP34",
        "colab_type": "text"
      },
      "source": [
        "Now let check the frequency distribution. Here frequency distribution is plotted logarithmically. Some regions has very few properties listed. This make our prediction and graph later on difficult to work with."
      ]
    },
    {
      "cell_type": "code",
      "metadata": {
        "id": "5GeCYbIBJSaM",
        "colab_type": "code",
        "colab": {
          "base_uri": "https://localhost:8080/",
          "height": 265
        },
        "outputId": "84e80fbe-697a-4ac0-fde4-6fca367fbea0"
      },
      "source": [
        "properties[\"Location\"].value_counts().plot(logy=True);"
      ],
      "execution_count": null,
      "outputs": [
        {
          "output_type": "display_data",
          "data": {
            "image/png": "[encoded data removed]",
            "text/plain": [
              "<Figure size 432x288 with 1 Axes>"
            ]
          },
          "metadata": {
            "tags": [],
            "needs_background": "light"
          }
        }
      ]
    },
    {
      "cell_type": "markdown",
      "metadata": {
        "id": "WKOkwosTv70U",
        "colab_type": "text"
      },
      "source": [
        "So the next step is to trim the data. Locations with fewer than 100 properties listed are removed from the candidates to be analyzed. "
      ]
    },
    {
      "cell_type": "code",
      "metadata": {
        "id": "y72YSVPnJts0",
        "colab_type": "code",
        "colab": {}
      },
      "source": [
        "significant_locations = properties[\"Location\"].value_counts()[\n",
        "    properties[\"Location\"].value_counts() >= 100].index\n",
        "\n",
        "properties = properties.loc[np.isin(properties[\"Location\"], significant_locations)]"
      ],
      "execution_count": null,
      "outputs": []
    },
    {
      "cell_type": "markdown",
      "metadata": {
        "id": "YIGI6z4CwGGS",
        "colab_type": "text"
      },
      "source": [
        "So here we see the list again to check them. We supposed to get less location here as we are already cut down the data."
      ]
    },
    {
      "cell_type": "code",
      "metadata": {
        "id": "4LdXKYcJJ7ka",
        "colab_type": "code",
        "colab": {
          "base_uri": "https://localhost:8080/",
          "height": 907
        },
        "outputId": "bb151737-58fc-4054-c8f7-c1c731970ed0"
      },
      "source": [
        "sorted(properties[\"Location\"].unique())"
      ],
      "execution_count": null,
      "outputs": [
        {
          "output_type": "execute_result",
          "data": {
            "text/plain": [
              "['ampang',\n",
              " 'ampang hilir',\n",
              " 'bandar damai perdana',\n",
              " 'bandar menjalara',\n",
              " 'bangsar',\n",
              " 'bangsar south',\n",
              " 'batu caves',\n",
              " 'brickfields',\n",
              " 'bukit bintang',\n",
              " 'bukit jalil',\n",
              " 'bukit tunku (kenny hills)',\n",
              " 'cheras',\n",
              " 'city centre',\n",
              " 'country heights damansara',\n",
              " 'damansara heights',\n",
              " 'desa pandan',\n",
              " 'desa parkcity',\n",
              " 'desa petaling',\n",
              " 'dutamas',\n",
              " 'jalan ipoh',\n",
              " 'jalan klang lama (old klang road)',\n",
              " 'jalan kuching',\n",
              " 'jalan sultan ismail',\n",
              " 'kepong',\n",
              " 'keramat',\n",
              " 'kl city',\n",
              " 'kl eco city',\n",
              " 'kl sentral',\n",
              " 'klcc',\n",
              " 'kuchai lama',\n",
              " 'mont kiara',\n",
              " 'oug',\n",
              " 'pandan perdana',\n",
              " 'pantai',\n",
              " 'salak selatan',\n",
              " 'segambut',\n",
              " 'sentul',\n",
              " 'seputeh',\n",
              " 'setapak',\n",
              " 'setiawangsa',\n",
              " 'sri hartamas',\n",
              " 'sri petaling',\n",
              " 'sungai besi',\n",
              " 'sunway spk',\n",
              " 'taman desa',\n",
              " 'taman melawati',\n",
              " 'taman tun dr ismail',\n",
              " 'titiwangsa',\n",
              " 'wangsa maju']"
            ]
          },
          "metadata": {
            "tags": []
          },
          "execution_count": 12
        }
      ]
    },
    {
      "cell_type": "markdown",
      "metadata": {
        "id": "-f18ckfzwm5S",
        "colab_type": "text"
      },
      "source": [
        "The number of rooms contains format irregularities. Here we can see it is common for rooms to be listed as N+M instead of the total number of rooms. We need to make new format to ease us to analyze. astype() is the function to print them as string otherwise it will be added up when printed."
      ]
    },
    {
      "cell_type": "code",
      "metadata": {
        "id": "CIWcWU6jKBCU",
        "colab_type": "code",
        "colab": {
          "base_uri": "https://localhost:8080/",
          "height": 816
        },
        "outputId": "b0cd79f0-e59c-4df1-e84d-0e0e93ac4c9f"
      },
      "source": [
        "sorted(properties[\"Rooms\"].unique().astype(str))"
      ],
      "execution_count": null,
      "outputs": [
        {
          "output_type": "execute_result",
          "data": {
            "text/plain": [
              "['1',\n",
              " '1+1',\n",
              " '1+2',\n",
              " '10',\n",
              " '10+',\n",
              " '10+1',\n",
              " '11',\n",
              " '11+1',\n",
              " '12',\n",
              " '12+',\n",
              " '13',\n",
              " '13+',\n",
              " '13+1',\n",
              " '14',\n",
              " '15+',\n",
              " '16',\n",
              " '18',\n",
              " '2',\n",
              " '2+1',\n",
              " '2+2',\n",
              " '20 Above',\n",
              " '3',\n",
              " '3+1',\n",
              " '3+2',\n",
              " '4',\n",
              " '4+1',\n",
              " '4+2',\n",
              " '5',\n",
              " '5+1',\n",
              " '5+2',\n",
              " '6',\n",
              " '6+',\n",
              " '6+1',\n",
              " '7',\n",
              " '7+',\n",
              " '7+1',\n",
              " '8',\n",
              " '8+',\n",
              " '8+1',\n",
              " '9',\n",
              " '9+',\n",
              " '9+1',\n",
              " 'Studio',\n",
              " 'nan']"
            ]
          },
          "metadata": {
            "tags": []
          },
          "execution_count": 13
        }
      ]
    },
    {
      "cell_type": "markdown",
      "metadata": {
        "id": "4GImcPMuxo6X",
        "colab_type": "text"
      },
      "source": [
        "Here is the function to convert the format into single number. We simply check for all properties, putting the into if statements."
      ]
    },
    {
      "cell_type": "code",
      "metadata": {
        "id": "blBdoJeoKN0I",
        "colab_type": "code",
        "colab": {}
      },
      "source": [
        "def convert_room_num(rooms):\n",
        "    try:\n",
        "        if rooms.endswith(\"+\"):\n",
        "            return int(rooms[:-1])\n",
        "        if re.search(\"[0-9]+\\+[0-9]+\", rooms) is not None:\n",
        "            tmp = rooms.split(\"+\")\n",
        "            return int(tmp[0]) + int(tmp[1])\n",
        "        if rooms == \"20 Above\":\n",
        "            return 20\n",
        "        if rooms == \"Studio\":\n",
        "            return 1\n",
        "        return int(rooms)\n",
        "    except AttributeError:\n",
        "        return rooms\n",
        "\n",
        "properties[\"Rooms Num\"] = properties[\"Rooms\"].apply(convert_room_num)"
      ],
      "execution_count": null,
      "outputs": []
    },
    {
      "cell_type": "markdown",
      "metadata": {
        "id": "qdDmrKkxxyAi",
        "colab_type": "text"
      },
      "source": [
        "So we check again the data. Here, we can see it us in the form of number. So the steps are done for the Rooms Num."
      ]
    },
    {
      "cell_type": "code",
      "metadata": {
        "id": "xS_ZXlsPKRBR",
        "colab_type": "code",
        "colab": {
          "base_uri": "https://localhost:8080/",
          "height": 380
        },
        "outputId": "12dc3eba-b56c-4a7c-cf23-29beb33dcdee"
      },
      "source": [
        "properties[\"Rooms Num\"].value_counts(dropna=False)"
      ],
      "execution_count": null,
      "outputs": [
        {
          "output_type": "execute_result",
          "data": {
            "text/plain": [
              "3.0     15938\n",
              "4.0     13027\n",
              "5.0      6827\n",
              "2.0      6547\n",
              "6.0      3747\n",
              "1.0      3191\n",
              "7.0      1564\n",
              "NaN      1560\n",
              "8.0       361\n",
              "9.0       102\n",
              "10.0       45\n",
              "12.0       14\n",
              "11.0        8\n",
              "20.0        7\n",
              "13.0        4\n",
              "14.0        3\n",
              "16.0        2\n",
              "18.0        1\n",
              "15.0        1\n",
              "Name: Rooms Num, dtype: int64"
            ]
          },
          "metadata": {
            "tags": []
          },
          "execution_count": 15
        }
      ]
    },
    {
      "cell_type": "markdown",
      "metadata": {
        "id": "7EOHXo7qy_Y6",
        "colab_type": "text"
      },
      "source": [
        "So now we see the property type available in the data. Obviously it is very long data so we need to simplify it to assist our analysis."
      ]
    },
    {
      "cell_type": "code",
      "metadata": {
        "id": "TMkekQdZKUJ6",
        "colab_type": "code",
        "colab": {
          "base_uri": "https://localhost:8080/",
          "height": 235
        },
        "outputId": "6826101d-91d7-4d35-9746-b253a03bc1dc"
      },
      "source": [
        "properties[\"Property Type\"].value_counts()"
      ],
      "execution_count": null,
      "outputs": [
        {
          "output_type": "execute_result",
          "data": {
            "text/plain": [
              "Condominium                             11447\n",
              "Serviced Residence                       7176\n",
              "Condominium (Corner)                     5687\n",
              "Condominium (Intermediate)               5113\n",
              "Serviced Residence (Intermediate)        3255\n",
              "                                        ...  \n",
              "Semi-detached House (SOHO)                  1\n",
              "Cluster House                               1\n",
              "4-sty Terrace/Link House (Penthouse)        1\n",
              "2.5-sty Terrace/Link House (Triplex)        1\n",
              "4.5-sty Terrace/Link House (Corner)         1\n",
              "Name: Property Type, Length: 95, dtype: int64"
            ]
          },
          "metadata": {
            "tags": []
          },
          "execution_count": 16
        }
      ]
    },
    {
      "cell_type": "markdown",
      "metadata": {
        "id": "x4p-qc-Bzml1",
        "colab_type": "text"
      },
      "source": [
        "Here is the function that converts them from mini groups into super groups. It is just new categories that can fit some groups with same types."
      ]
    },
    {
      "cell_type": "code",
      "metadata": {
        "id": "5vgnGzGMKa4w",
        "colab_type": "code",
        "colab": {}
      },
      "source": [
        "def simplify_property_type(prop_type):\n",
        "    super_types = [\n",
        "        \"Terrace/Link House\", \"Serviced Residence\", \"Condominium\", \n",
        "        \"Semi-detached House\", \"Bungalow\", \"Apartment\", \"Townhouse\", \n",
        "        \"Flat\", \"Residential Land\", \"Cluster House\"]\n",
        "    for super_type in super_types:\n",
        "        if re.search(super_type, prop_type, flags=re.IGNORECASE) is not None:\n",
        "            return super_type\n",
        "    \n",
        "    return prop_type\n",
        "\n",
        "properties[\"Property Type Supergroup\"] = properties[\"Property Type\"].apply(simplify_property_type)"
      ],
      "execution_count": null,
      "outputs": []
    },
    {
      "cell_type": "markdown",
      "metadata": {
        "id": "kmvtil6Z0NQA",
        "colab_type": "text"
      },
      "source": [
        "So we check again the data. Good, now the types are reduced."
      ]
    },
    {
      "cell_type": "code",
      "metadata": {
        "id": "Bp-UgM0NKjZe",
        "colab_type": "code",
        "colab": {
          "base_uri": "https://localhost:8080/",
          "height": 217
        },
        "outputId": "931805c1-f838-49cc-f32a-40125f1ae547"
      },
      "source": [
        "properties[\"Property Type Supergroup\"].value_counts(dropna=False)"
      ],
      "execution_count": null,
      "outputs": [
        {
          "output_type": "execute_result",
          "data": {
            "text/plain": [
              "Condominium            23149\n",
              "Serviced Residence     13399\n",
              "Terrace/Link House      7567\n",
              "Bungalow                3598\n",
              "Semi-detached House     2102\n",
              "Apartment               1621\n",
              "Residential Land         669\n",
              "Townhouse                508\n",
              "Flat                     330\n",
              "Cluster House              6\n",
              "Name: Property Type Supergroup, dtype: int64"
            ]
          },
          "metadata": {
            "tags": []
          },
          "execution_count": 18
        }
      ]
    },
    {
      "cell_type": "markdown",
      "metadata": {
        "id": "EAAu4xB40RhL",
        "colab_type": "text"
      },
      "source": [
        "So we jump to furnishing. It is already in the format that we do not need to clean."
      ]
    },
    {
      "cell_type": "code",
      "metadata": {
        "id": "lLEfQ4HQKzfs",
        "colab_type": "code",
        "colab": {
          "base_uri": "https://localhost:8080/",
          "height": 126
        },
        "outputId": "e65d6272-055a-4b04-8423-784611e6b790"
      },
      "source": [
        "properties[\"Furnishing\"].value_counts(dropna=False)"
      ],
      "execution_count": null,
      "outputs": [
        {
          "output_type": "execute_result",
          "data": {
            "text/plain": [
              "Partly Furnished    26222\n",
              "Fully Furnished     13846\n",
              "NaN                  6687\n",
              "Unfurnished          5611\n",
              "Unknown               583\n",
              "Name: Furnishing, dtype: int64"
            ]
          },
          "metadata": {
            "tags": []
          },
          "execution_count": 19
        }
      ]
    },
    {
      "cell_type": "markdown",
      "metadata": {
        "id": "YpH9zpc60oP3",
        "colab_type": "text"
      },
      "source": [
        "So lets see the Size feature. All the sizes here in the string format. Here we see the sample of 25 items."
      ]
    },
    {
      "cell_type": "code",
      "metadata": {
        "id": "-PWUIUd_K5E3",
        "colab_type": "code",
        "colab": {
          "base_uri": "https://localhost:8080/",
          "height": 833
        },
        "outputId": "2d8be83c-36af-478c-9bf0-7838ba60f833"
      },
      "source": [
        "properties[[\"Size\"]].sample(25)"
      ],
      "execution_count": null,
      "outputs": [
        {
          "output_type": "execute_result",
          "data": {
            "text/html": [
              "<div>\n",
              "<style scoped>\n",
              "    .dataframe tbody tr th:only-of-type {\n",
              "        vertical-align: middle;\n",
              "    }\n",
              "\n",
              "    .dataframe tbody tr th {\n",
              "        vertical-align: top;\n",
              "    }\n",
              "\n",
              "    .dataframe thead th {\n",
              "        text-align: right;\n",
              "    }\n",
              "</style>\n",
              "<table border=\"1\" class=\"dataframe\">\n",
              "  <thead>\n",
              "    <tr style=\"text-align: right;\">\n",
              "      <th></th>\n",
              "      <th>Size</th>\n",
              "    </tr>\n",
              "  </thead>\n",
              "  <tbody>\n",
              "    <tr>\n",
              "      <th>44370</th>\n",
              "      <td>Built-up : 9,000 sq. ft.</td>\n",
              "    </tr>\n",
              "    <tr>\n",
              "      <th>24474</th>\n",
              "      <td>Built-up : 2,002 sq. ft.</td>\n",
              "    </tr>\n",
              "    <tr>\n",
              "      <th>38244</th>\n",
              "      <td>Land area : 3046 sq. ft.</td>\n",
              "    </tr>\n",
              "    <tr>\n",
              "      <th>11381</th>\n",
              "      <td>Built-up : 522 sq. ft.</td>\n",
              "    </tr>\n",
              "    <tr>\n",
              "      <th>36948</th>\n",
              "      <td>Land area : 1659 sq. ft.</td>\n",
              "    </tr>\n",
              "    <tr>\n",
              "      <th>45748</th>\n",
              "      <td>Built-up : 950 sq. ft.</td>\n",
              "    </tr>\n",
              "    <tr>\n",
              "      <th>48529</th>\n",
              "      <td>Land area : 6000 sq. ft.</td>\n",
              "    </tr>\n",
              "    <tr>\n",
              "      <th>36563</th>\n",
              "      <td>Built-up : 729 sq. ft.</td>\n",
              "    </tr>\n",
              "    <tr>\n",
              "      <th>36203</th>\n",
              "      <td>Built-up : 3,983 sq. ft.</td>\n",
              "    </tr>\n",
              "    <tr>\n",
              "      <th>16770</th>\n",
              "      <td>Built-up : 900 sq. ft.</td>\n",
              "    </tr>\n",
              "    <tr>\n",
              "      <th>9866</th>\n",
              "      <td>Built-up : 750 sq. ft.</td>\n",
              "    </tr>\n",
              "    <tr>\n",
              "      <th>48168</th>\n",
              "      <td>Land area : 10689 sq. ft.</td>\n",
              "    </tr>\n",
              "    <tr>\n",
              "      <th>44076</th>\n",
              "      <td>Land area : 22000 sq. ft.</td>\n",
              "    </tr>\n",
              "    <tr>\n",
              "      <th>29281</th>\n",
              "      <td>Built-up : 850 sq. ft.</td>\n",
              "    </tr>\n",
              "    <tr>\n",
              "      <th>944</th>\n",
              "      <td>Built-up : 4,450 sq. ft.</td>\n",
              "    </tr>\n",
              "    <tr>\n",
              "      <th>50095</th>\n",
              "      <td>Built-up : 3,146 sq. ft.</td>\n",
              "    </tr>\n",
              "    <tr>\n",
              "      <th>31355</th>\n",
              "      <td>Built-up : 1,012 sq. ft.</td>\n",
              "    </tr>\n",
              "    <tr>\n",
              "      <th>53711</th>\n",
              "      <td>Land area : 732 sq. ft.</td>\n",
              "    </tr>\n",
              "    <tr>\n",
              "      <th>5022</th>\n",
              "      <td>Built-up : 1,091 sq. ft.</td>\n",
              "    </tr>\n",
              "    <tr>\n",
              "      <th>40956</th>\n",
              "      <td>Built-up : 2,626 sq. ft.</td>\n",
              "    </tr>\n",
              "    <tr>\n",
              "      <th>3961</th>\n",
              "      <td>Land area : 5440 sq. ft.</td>\n",
              "    </tr>\n",
              "    <tr>\n",
              "      <th>29163</th>\n",
              "      <td>Land area : 18212.54 sq. ft.</td>\n",
              "    </tr>\n",
              "    <tr>\n",
              "      <th>21204</th>\n",
              "      <td>Built-up : 904 sq. ft.</td>\n",
              "    </tr>\n",
              "    <tr>\n",
              "      <th>44105</th>\n",
              "      <td>Built-up : 1,378 sq. ft.</td>\n",
              "    </tr>\n",
              "    <tr>\n",
              "      <th>15861</th>\n",
              "      <td>Land area : 1650 sq. ft.</td>\n",
              "    </tr>\n",
              "  </tbody>\n",
              "</table>\n",
              "</div>"
            ],
            "text/plain": [
              "                               Size\n",
              "44370      Built-up : 9,000 sq. ft.\n",
              "24474      Built-up : 2,002 sq. ft.\n",
              "38244      Land area : 3046 sq. ft.\n",
              "11381        Built-up : 522 sq. ft.\n",
              "36948      Land area : 1659 sq. ft.\n",
              "45748        Built-up : 950 sq. ft.\n",
              "48529      Land area : 6000 sq. ft.\n",
              "36563        Built-up : 729 sq. ft.\n",
              "36203      Built-up : 3,983 sq. ft.\n",
              "16770        Built-up : 900 sq. ft.\n",
              "9866         Built-up : 750 sq. ft.\n",
              "48168     Land area : 10689 sq. ft.\n",
              "44076     Land area : 22000 sq. ft.\n",
              "29281        Built-up : 850 sq. ft.\n",
              "944        Built-up : 4,450 sq. ft.\n",
              "50095      Built-up : 3,146 sq. ft.\n",
              "31355      Built-up : 1,012 sq. ft.\n",
              "53711       Land area : 732 sq. ft.\n",
              "5022       Built-up : 1,091 sq. ft.\n",
              "40956      Built-up : 2,626 sq. ft.\n",
              "3961       Land area : 5440 sq. ft.\n",
              "29163  Land area : 18212.54 sq. ft.\n",
              "21204        Built-up : 904 sq. ft.\n",
              "44105      Built-up : 1,378 sq. ft.\n",
              "15861      Land area : 1650 sq. ft."
            ]
          },
          "metadata": {
            "tags": []
          },
          "execution_count": 20
        }
      ]
    },
    {
      "cell_type": "markdown",
      "metadata": {
        "id": "kOxEXpL11Kns",
        "colab_type": "text"
      },
      "source": [
        "Because of landed area and built up are two different features, we need to split them up accordingly. Here is the function to create two new column that indicate whether this is built-up or land area."
      ]
    },
    {
      "cell_type": "code",
      "metadata": {
        "id": "vcrjaSt7K_lX",
        "colab_type": "code",
        "colab": {}
      },
      "source": [
        "def split_size(val, index=0):\n",
        "    try:\n",
        "        return val.split(\":\")[index].strip()\n",
        "    except AttributeError:\n",
        "        return val\n",
        "    \n",
        "properties[\"Size Type\"] = properties[\"Size\"].apply(split_size, index=0)\n",
        "properties[\"Size Num\"] = properties[\"Size\"].apply(split_size, index=1)"
      ],
      "execution_count": null,
      "outputs": []
    },
    {
      "cell_type": "markdown",
      "metadata": {
        "id": "W-y9pUC62Lt7",
        "colab_type": "text"
      },
      "source": [
        "So we check the count number . There should be two type in Size Type."
      ]
    },
    {
      "cell_type": "code",
      "metadata": {
        "id": "WchN_zI0LDIw",
        "colab_type": "code",
        "colab": {
          "base_uri": "https://localhost:8080/",
          "height": 90
        },
        "outputId": "c0603256-015d-488b-c768-f700f75bba8e"
      },
      "source": [
        "properties[\"Size Type\"].value_counts(dropna=False)"
      ],
      "execution_count": null,
      "outputs": [
        {
          "output_type": "execute_result",
          "data": {
            "text/plain": [
              "Built-up     37493\n",
              "Land area    14453\n",
              "NaN           1003\n",
              "Name: Size Type, dtype: int64"
            ]
          },
          "metadata": {
            "tags": []
          },
          "execution_count": 22
        }
      ]
    },
    {
      "cell_type": "markdown",
      "metadata": {
        "id": "WDVRQ7LN6_uM",
        "colab_type": "text"
      },
      "source": [
        "So need to convert the num Size into number type in order to do analysis. Below is the function to convert it."
      ]
    },
    {
      "cell_type": "code",
      "metadata": {
        "id": "NQ3wVyJ6LGWn",
        "colab_type": "code",
        "colab": {}
      },
      "source": [
        "def convert_size_num(size):\n",
        "    try:\n",
        "        # If it is not in form of square feet simply ignore it.\n",
        "        if re.search(r\"sq\\.*\\s*ft\\.*\", size) is None:\n",
        "            return None\n",
        "    \n",
        "        size = size.replace(\",\", \"\")\n",
        "        size = size.replace(\"'\", \"\")\n",
        "        size = size.replace(\"sq. ft.\", \"\")\n",
        "        size = size.replace(\"sf\", \"\")\n",
        "        size = size.strip()\n",
        "        size = size.lower()\n",
        "        \n",
        "        add_mult_match = re.search(r\"(\\d+)\\s*\\+\\s*(\\d+)\\s*(?:x|\\*)\\s*(\\d+)\", size)\n",
        "        if add_mult_match is not None:\n",
        "            return int(add_mult_match.groups()[0]) + (\n",
        "                int(add_mult_match.groups()[1]) * \n",
        "                int(add_mult_match.groups()[2]))\n",
        "        \n",
        "        mult_match = re.search(r\"(\\d+)\\s*(?:x|\\*)\\s*(\\d+)\", size)\n",
        "        if mult_match is not None:\n",
        "            return int(mult_match.groups()[0]) * int(mult_match.groups()[1])\n",
        "        \n",
        "        return int(size)\n",
        "    # If none of the steps works, we simply return none. This is important because we want to make sure it is numeric.\n",
        "    except:\n",
        "        return None\n",
        "        \n",
        "properties[\"Size Num\"] = properties[\"Size Num\"].apply(convert_size_num)"
      ],
      "execution_count": null,
      "outputs": []
    },
    {
      "cell_type": "markdown",
      "metadata": {
        "id": "dzx_3KTk7Qhz",
        "colab_type": "text"
      },
      "source": [
        "So we check the data again. Here we need the count for the data that we want and also which has missing data and data type."
      ]
    },
    {
      "cell_type": "code",
      "metadata": {
        "id": "N0O2lr4eLN7F",
        "colab_type": "code",
        "colab": {
          "base_uri": "https://localhost:8080/",
          "height": 72
        },
        "outputId": "557669c8-c9d0-4913-d7b6-9808522ed43c"
      },
      "source": [
        "print(\"Properties with missing raw size data: {}\".format(properties[\"Size\"].isna().sum()))\n",
        "print(\"Properties with missing size type data: {}\".format(properties[\"Size Type\"].isna().sum()))\n",
        "print(\"Properties with missing size num data: {}\".format(properties[\"Size Num\"].isna().sum()))"
      ],
      "execution_count": null,
      "outputs": [
        {
          "output_type": "stream",
          "text": [
            "Properties with missing raw size data: 1003\n",
            "Properties with missing size type data: 1003\n",
            "Properties with missing size num data: 1313\n"
          ],
          "name": "stdout"
        }
      ]
    },
    {
      "cell_type": "markdown",
      "metadata": {
        "id": "ycr76ACG7gHL",
        "colab_type": "text"
      },
      "source": [
        "Here we synchronize the missing values between the Size Type and Size Num columns in the data frame.\n"
      ]
    },
    {
      "cell_type": "code",
      "metadata": {
        "id": "RhAHGB7MLPAp",
        "colab_type": "code",
        "colab": {}
      },
      "source": [
        "properties.loc[properties[\"Size Num\"].isna(), \"Size Type\"] = None"
      ],
      "execution_count": null,
      "outputs": []
    },
    {
      "cell_type": "markdown",
      "metadata": {
        "id": "3K_lxpqJ7qva",
        "colab_type": "text"
      },
      "source": [
        "So here we check again the count number for the Size Type."
      ]
    },
    {
      "cell_type": "code",
      "metadata": {
        "id": "duUQf1gFLU8D",
        "colab_type": "code",
        "colab": {
          "base_uri": "https://localhost:8080/",
          "height": 90
        },
        "outputId": "f11d00b1-76e3-4f35-b945-8a60d2eec1b8"
      },
      "source": [
        "properties.loc[:, \"Size Type\"].value_counts(dropna=False)"
      ],
      "execution_count": null,
      "outputs": [
        {
          "output_type": "execute_result",
          "data": {
            "text/plain": [
              "Built-up     37455\n",
              "Land area    14181\n",
              "NaN           1313\n",
              "Name: Size Type, dtype: int64"
            ]
          },
          "metadata": {
            "tags": []
          },
          "execution_count": 26
        }
      ]
    },
    {
      "cell_type": "markdown",
      "metadata": {
        "id": "NBaLq6vy7xH0",
        "colab_type": "text"
      },
      "source": [
        "Lets check the bathrooms data. It seems doesnt need any modification as it is standardized."
      ]
    },
    {
      "cell_type": "code",
      "metadata": {
        "id": "DnkiDpq7LY4k",
        "colab_type": "code",
        "colab": {
          "base_uri": "https://localhost:8080/",
          "height": 362
        },
        "outputId": "5c6b81cf-be7c-4594-93b1-6a49d85e74f1"
      },
      "source": [
        "properties[\"Bathrooms\"].value_counts(dropna=False)"
      ],
      "execution_count": null,
      "outputs": [
        {
          "output_type": "execute_result",
          "data": {
            "text/plain": [
              "2.0     21163\n",
              "3.0      9331\n",
              "4.0      6522\n",
              "5.0      4717\n",
              "1.0      4482\n",
              "6.0      3172\n",
              "NaN      1866\n",
              "7.0      1031\n",
              "8.0       402\n",
              "9.0       142\n",
              "10.0       70\n",
              "12.0       14\n",
              "11.0       11\n",
              "20.0       10\n",
              "15.0        6\n",
              "13.0        5\n",
              "14.0        4\n",
              "16.0        1\n",
              "Name: Bathrooms, dtype: int64"
            ]
          },
          "metadata": {
            "tags": []
          },
          "execution_count": 27
        }
      ]
    },
    {
      "cell_type": "markdown",
      "metadata": {
        "id": "CmTmL74776EA",
        "colab_type": "text"
      },
      "source": [
        "The car park data also is already standardized."
      ]
    },
    {
      "cell_type": "code",
      "metadata": {
        "id": "rS-Pfa5oLh7v",
        "colab_type": "code",
        "colab": {
          "base_uri": "https://localhost:8080/",
          "height": 435
        },
        "outputId": "099bd681-b198-4684-90b6-44054488fb85"
      },
      "source": [
        "properties[\"Car Parks\"].value_counts(dropna=False)"
      ],
      "execution_count": null,
      "outputs": [
        {
          "output_type": "execute_result",
          "data": {
            "text/plain": [
              "NaN     17042\n",
              "2.0     15174\n",
              "1.0     13622\n",
              "3.0      3798\n",
              "4.0      1913\n",
              "6.0       623\n",
              "5.0       501\n",
              "8.0        91\n",
              "10.0       76\n",
              "7.0        62\n",
              "15.0        7\n",
              "12.0        7\n",
              "13.0        7\n",
              "20.0        4\n",
              "11.0        4\n",
              "9.0         4\n",
              "30.0        4\n",
              "28.0        4\n",
              "16.0        2\n",
              "17.0        2\n",
              "18.0        1\n",
              "24.0        1\n",
              "Name: Car Parks, dtype: int64"
            ]
          },
          "metadata": {
            "tags": []
          },
          "execution_count": 28
        }
      ]
    },
    {
      "cell_type": "markdown",
      "metadata": {
        "id": "KDicYG5f8BX_",
        "colab_type": "text"
      },
      "source": [
        "So here we want to introduced new features from the existing parameters which are price per area and price per room. This feauture can be the new dependent variable for our model."
      ]
    },
    {
      "cell_type": "code",
      "metadata": {
        "id": "Z0heSawALmig",
        "colab_type": "code",
        "colab": {}
      },
      "source": [
        "properties[\"Price per Area\"] = properties[\"Price\"] / properties[\"Size Num\"]\n",
        "properties[\"Price per Room\"] = properties[\"Price\"] / properties[\"Rooms Num\"]"
      ],
      "execution_count": null,
      "outputs": []
    },
    {
      "cell_type": "markdown",
      "metadata": {
        "id": "VS0kEWI_8h1u",
        "colab_type": "text"
      },
      "source": [
        "Then we need to save the processed data into the drive in .csv type"
      ]
    },
    {
      "cell_type": "code",
      "metadata": {
        "id": "7zS2h0N3Lq2s",
        "colab_type": "code",
        "colab": {}
      },
      "source": [
        "properties.to_csv(\"/content/drive/My Drive/Properties_preprocessed.csv\")"
      ],
      "execution_count": null,
      "outputs": []
    },
    {
      "cell_type": "markdown",
      "metadata": {
        "id": "Q3ytv8Oc8rbG",
        "colab_type": "text"
      },
      "source": [
        "Here we try to look for first 5 data that we just saved.  We can see here there are new columns with numeric values and standarized data that we can use for our analysis."
      ]
    },
    {
      "cell_type": "code",
      "metadata": {
        "id": "-T4USZc3PFf2",
        "colab_type": "code",
        "colab": {
          "base_uri": "https://localhost:8080/",
          "height": 310
        },
        "outputId": "d3553776-f46d-4898-a5af-ab9c04e79264"
      },
      "source": [
        "properties.head()"
      ],
      "execution_count": null,
      "outputs": [
        {
          "output_type": "execute_result",
          "data": {
            "text/html": [
              "<div>\n",
              "<style scoped>\n",
              "    .dataframe tbody tr th:only-of-type {\n",
              "        vertical-align: middle;\n",
              "    }\n",
              "\n",
              "    .dataframe tbody tr th {\n",
              "        vertical-align: top;\n",
              "    }\n",
              "\n",
              "    .dataframe thead th {\n",
              "        text-align: right;\n",
              "    }\n",
              "</style>\n",
              "<table border=\"1\" class=\"dataframe\">\n",
              "  <thead>\n",
              "    <tr style=\"text-align: right;\">\n",
              "      <th></th>\n",
              "      <th>Unnamed: 0</th>\n",
              "      <th>Location</th>\n",
              "      <th>Price</th>\n",
              "      <th>Rooms</th>\n",
              "      <th>Bathrooms</th>\n",
              "      <th>Car Parks</th>\n",
              "      <th>Property Type</th>\n",
              "      <th>Size</th>\n",
              "      <th>Furnishing</th>\n",
              "      <th>Rooms Num</th>\n",
              "      <th>Property Type Supergroup</th>\n",
              "      <th>Size Type</th>\n",
              "      <th>Size Num</th>\n",
              "      <th>Price per Area</th>\n",
              "      <th>Price per Room</th>\n",
              "    </tr>\n",
              "  </thead>\n",
              "  <tbody>\n",
              "    <tr>\n",
              "      <th>0</th>\n",
              "      <td>0</td>\n",
              "      <td>klcc</td>\n",
              "      <td>1250000</td>\n",
              "      <td>2+1</td>\n",
              "      <td>3.0</td>\n",
              "      <td>2.0</td>\n",
              "      <td>Serviced Residence</td>\n",
              "      <td>Built-up : 1,335 sq. ft.</td>\n",
              "      <td>Fully Furnished</td>\n",
              "      <td>3.0</td>\n",
              "      <td>Serviced Residence</td>\n",
              "      <td>Built-up</td>\n",
              "      <td>1335.0</td>\n",
              "      <td>936.329588</td>\n",
              "      <td>4.166667e+05</td>\n",
              "    </tr>\n",
              "    <tr>\n",
              "      <th>1</th>\n",
              "      <td>1</td>\n",
              "      <td>damansara heights</td>\n",
              "      <td>6800000</td>\n",
              "      <td>6</td>\n",
              "      <td>7.0</td>\n",
              "      <td>NaN</td>\n",
              "      <td>Bungalow</td>\n",
              "      <td>Land area : 6900 sq. ft.</td>\n",
              "      <td>Partly Furnished</td>\n",
              "      <td>6.0</td>\n",
              "      <td>Bungalow</td>\n",
              "      <td>Land area</td>\n",
              "      <td>6900.0</td>\n",
              "      <td>985.507246</td>\n",
              "      <td>1.133333e+06</td>\n",
              "    </tr>\n",
              "    <tr>\n",
              "      <th>2</th>\n",
              "      <td>2</td>\n",
              "      <td>dutamas</td>\n",
              "      <td>1030000</td>\n",
              "      <td>3</td>\n",
              "      <td>4.0</td>\n",
              "      <td>2.0</td>\n",
              "      <td>Condominium (Corner)</td>\n",
              "      <td>Built-up : 1,875 sq. ft.</td>\n",
              "      <td>Partly Furnished</td>\n",
              "      <td>3.0</td>\n",
              "      <td>Condominium</td>\n",
              "      <td>Built-up</td>\n",
              "      <td>1875.0</td>\n",
              "      <td>549.333333</td>\n",
              "      <td>3.433333e+05</td>\n",
              "    </tr>\n",
              "    <tr>\n",
              "      <th>3</th>\n",
              "      <td>4</td>\n",
              "      <td>bukit jalil</td>\n",
              "      <td>900000</td>\n",
              "      <td>4+1</td>\n",
              "      <td>3.0</td>\n",
              "      <td>2.0</td>\n",
              "      <td>Condominium (Corner)</td>\n",
              "      <td>Built-up : 1,513 sq. ft.</td>\n",
              "      <td>Partly Furnished</td>\n",
              "      <td>5.0</td>\n",
              "      <td>Condominium</td>\n",
              "      <td>Built-up</td>\n",
              "      <td>1513.0</td>\n",
              "      <td>594.844679</td>\n",
              "      <td>1.800000e+05</td>\n",
              "    </tr>\n",
              "    <tr>\n",
              "      <th>4</th>\n",
              "      <td>5</td>\n",
              "      <td>taman tun dr ismail</td>\n",
              "      <td>5350000</td>\n",
              "      <td>4+2</td>\n",
              "      <td>5.0</td>\n",
              "      <td>4.0</td>\n",
              "      <td>Bungalow</td>\n",
              "      <td>Land area : 7200 sq. ft.</td>\n",
              "      <td>Partly Furnished</td>\n",
              "      <td>6.0</td>\n",
              "      <td>Bungalow</td>\n",
              "      <td>Land area</td>\n",
              "      <td>7200.0</td>\n",
              "      <td>743.055556</td>\n",
              "      <td>8.916667e+05</td>\n",
              "    </tr>\n",
              "  </tbody>\n",
              "</table>\n",
              "</div>"
            ],
            "text/plain": [
              "   Unnamed: 0             Location  ...  Price per Area Price per Room\n",
              "0           0                 klcc  ...      936.329588   4.166667e+05\n",
              "1           1    damansara heights  ...      985.507246   1.133333e+06\n",
              "2           2              dutamas  ...      549.333333   3.433333e+05\n",
              "3           4          bukit jalil  ...      594.844679   1.800000e+05\n",
              "4           5  taman tun dr ismail  ...      743.055556   8.916667e+05\n",
              "\n",
              "[5 rows x 15 columns]"
            ]
          },
          "metadata": {
            "tags": []
          },
          "execution_count": 32
        }
      ]
    },
    {
      "cell_type": "markdown",
      "metadata": {
        "id": "V3uf7YGDMHsz",
        "colab_type": "text"
      },
      "source": [
        "CHAPTER 2: DATA EXPLORATION"
      ]
    },
    {
      "cell_type": "markdown",
      "metadata": {
        "id": "YlD2WM1NKpxe",
        "colab_type": "text"
      },
      "source": [
        "How we are going to analyze the data if we do not know about it right? So here we tried to plot some graphs to gain some knowledge of our data. This step is more on statistical side. "
      ]
    },
    {
      "cell_type": "markdown",
      "metadata": {
        "id": "23XTglt7Jzay",
        "colab_type": "text"
      },
      "source": [
        "Below is the code to load the standardized data if the preprocessed data already available. This is to skip the preprocessing steps. Simply skip this code if you have done the process."
      ]
    },
    {
      "cell_type": "code",
      "metadata": {
        "id": "cdQsL1c89joG",
        "colab_type": "code",
        "colab": {}
      },
      "source": [
        "properties = pd.read_csv(\"/content/drive/My Drive/Properties_preprocessed.csv\") #This code is only run if you want to skipped step before"
      ],
      "execution_count": null,
      "outputs": []
    },
    {
      "cell_type": "markdown",
      "metadata": {
        "id": "XfWaXPew88cQ",
        "colab_type": "text"
      },
      "source": [
        "Below is the function to plot by any parameter of features that we want to know. It is a function that we use to to plot anything respected to the neighbourhood (area in the simple word)."
      ]
    },
    {
      "cell_type": "code",
      "metadata": {
        "id": "9hmOja8OLzOY",
        "colab_type": "code",
        "colab": {}
      },
      "source": [
        "# This function accept feature, formatting and also factor. The factor is how can we simplify the number. For example 1e6 is 10 power of 6 which are million.\n",
        "def plot_by_neighborhood(feature, formatting, factor=1):\n",
        "    df = properties.groupby(\"Location\")[feature].median().sort_values(ascending=False).reset_index()\n",
        "    shift = 0.1 * (df[feature].max() - df[feature].min())\n",
        "    df_sizes = properties.groupby(\"Location\").size()[df[\"Location\"]]\n",
        "\n",
        "    fig = sns.catplot(\n",
        "        data=df, x=feature, y=\"Location\", kind=\"bar\", \n",
        "        color=\"darkgrey\", height=10, aspect=0.8)\n",
        "\n",
        "    for index, row in df.iterrows():\n",
        "        fig.ax.text(\n",
        "            row[feature] + shift, row.name, formatting.format(row[feature] / factor), \n",
        "            color='black', ha=\"center\", va=\"center\")\n",
        "\n",
        "    fig.ax.get_xaxis().set_visible(False);\n",
        "    fig.despine(left=True, bottom=True)\n",
        "    fig.ax.tick_params(left=False, bottom=False);\n",
        "    fig.set_ylabels(\"\");"
      ],
      "execution_count": null,
      "outputs": []
    },
    {
      "cell_type": "markdown",
      "metadata": {
        "id": "Q0uO-_lWMN-3",
        "colab_type": "text"
      },
      "source": [
        "Total Prices per Neighborhood. This to show the areas respected to the total prices in each area. "
      ]
    },
    {
      "cell_type": "code",
      "metadata": {
        "id": "gsNMEYh2L1yH",
        "colab_type": "code",
        "colab": {
          "base_uri": "https://localhost:8080/",
          "height": 698
        },
        "outputId": "2cf14476-f3d4-4d6f-8f20-8dd75cd0c66e"
      },
      "source": [
        "plot_by_neighborhood(feature=\"Price\", formatting=\"RM {:.2f}m\", factor = 1e6)"
      ],
      "execution_count": null,
      "outputs": [
        {
          "output_type": "display_data",
          "data": {
            "image/png": "[encoded data removed]",
            "text/plain": [
              "<Figure size 576x720 with 1 Axes>"
            ]
          },
          "metadata": {
            "tags": [],
            "needs_background": "light"
          }
        }
      ]
    },
    {
      "cell_type": "markdown",
      "metadata": {
        "id": "EydWpOvUMStC",
        "colab_type": "text"
      },
      "source": [
        "Price per Square Foot per Neighborhood. Plotting Graph area respected to per square foot prices."
      ]
    },
    {
      "cell_type": "code",
      "metadata": {
        "id": "b68JM0ZQL6OV",
        "colab_type": "code",
        "colab": {
          "base_uri": "https://localhost:8080/",
          "height": 698
        },
        "outputId": "8c6a4a42-f48c-407d-fc23-16ded1a14849"
      },
      "source": [
        "plot_by_neighborhood(feature=\"Price per Area\", formatting=\"RM {:.2f}k\", factor = 1e3)"
      ],
      "execution_count": null,
      "outputs": [
        {
          "output_type": "display_data",
          "data": {
            "image/png": "[encoded data removed]",
            "text/plain": [
              "<Figure size 576x720 with 1 Axes>"
            ]
          },
          "metadata": {
            "tags": [],
            "needs_background": "light"
          }
        }
      ]
    },
    {
      "cell_type": "markdown",
      "metadata": {
        "id": "wqYrtKIbMX5U",
        "colab_type": "text"
      },
      "source": [
        "Price per Room per Neighborhood. Plotting the graph price per room in respected areas."
      ]
    },
    {
      "cell_type": "code",
      "metadata": {
        "id": "JPurkvtSL9Tp",
        "colab_type": "code",
        "colab": {
          "base_uri": "https://localhost:8080/",
          "height": 698
        },
        "outputId": "7b772f22-2552-4dca-e6a7-e4da3d7def89"
      },
      "source": [
        "plot_by_neighborhood(feature=\"Price per Room\", formatting=\"RM {:.2f}k\", factor = 1e3)"
      ],
      "execution_count": null,
      "outputs": [
        {
          "output_type": "display_data",
          "data": {
            "image/png": "[encoded data removed]",
            "text/plain": [
              "<Figure size 576x720 with 1 Axes>"
            ]
          },
          "metadata": {
            "tags": [],
            "needs_background": "light"
          }
        }
      ]
    },
    {
      "cell_type": "markdown",
      "metadata": {
        "id": "ju37WLRyMbfp",
        "colab_type": "text"
      },
      "source": [
        "\n",
        "Property Size per Neighborhood. Plotting graph showing which the area how many area in contain in the data frame."
      ]
    },
    {
      "cell_type": "code",
      "metadata": {
        "id": "FGQUnFrfMAbu",
        "colab_type": "code",
        "colab": {
          "base_uri": "https://localhost:8080/",
          "height": 698
        },
        "outputId": "66bd484b-d6c2-48ca-d273-8ef8d45982fa"
      },
      "source": [
        "plot_by_neighborhood(feature=\"Size Num\", formatting=\"{:.2f}k sq. ft.\", factor = 1e3)"
      ],
      "execution_count": null,
      "outputs": [
        {
          "output_type": "display_data",
          "data": {
            "image/png": "[encoded data removed]",
            "text/plain": [
              "<Figure size 576x720 with 1 Axes>"
            ]
          },
          "metadata": {
            "tags": [],
            "needs_background": "light"
          }
        }
      ]
    },
    {
      "cell_type": "markdown",
      "metadata": {
        "id": "VNFO4vw3MeyC",
        "colab_type": "text"
      },
      "source": [
        "\n",
        "Rooms per Neighborhood"
      ]
    },
    {
      "cell_type": "code",
      "metadata": {
        "id": "2o7Bnhv0Mf2R",
        "colab_type": "code",
        "colab": {
          "base_uri": "https://localhost:8080/",
          "height": 698
        },
        "outputId": "e7f9d5eb-ff24-4b16-8e81-fdf263ad3a2d"
      },
      "source": [
        "plot_by_neighborhood(feature=\"Rooms Num\", formatting=\"{:.2f}\", factor = 1)"
      ],
      "execution_count": null,
      "outputs": [
        {
          "output_type": "display_data",
          "data": {
            "image/png": "[encoded data removed]",
            "text/plain": [
              "<Figure size 576x720 with 1 Axes>"
            ]
          },
          "metadata": {
            "tags": [],
            "needs_background": "light"
          }
        }
      ]
    },
    {
      "cell_type": "markdown",
      "metadata": {
        "id": "_yjL5w0OMmTz",
        "colab_type": "text"
      },
      "source": [
        "Number of Properties per Neighborhood. This time we want to know how many properties each area in out data frame."
      ]
    },
    {
      "cell_type": "code",
      "metadata": {
        "id": "WK6e4tOAMnT1",
        "colab_type": "code",
        "colab": {
          "base_uri": "https://localhost:8080/",
          "height": 698
        },
        "outputId": "4a2b4b12-b67e-49bf-8c36-43a4a541d80e"
      },
      "source": [
        "df = properties.groupby(\"Location\").size().sort_values(ascending=False).reset_index()\n",
        "shift = 0.05 * (df[0].max() - df[0].min())\n",
        "df_sizes = properties.groupby(\"Location\").size()[df[\"Location\"]]\n",
        "\n",
        "fig = sns.catplot(\n",
        "    data=df, x=0, y=\"Location\", kind=\"bar\", \n",
        "    color=\"darkgrey\", height=10, aspect=0.8)\n",
        "\n",
        "for index, row in df.iterrows():\n",
        "    fig.ax.text(\n",
        "        row[0] + shift, row.name, row[0], \n",
        "        color='black', ha=\"center\", va=\"center\")\n",
        "\n",
        "fig.ax.get_xaxis().set_visible(False);\n",
        "fig.despine(left=True, bottom=True)\n",
        "fig.ax.tick_params(left=False, bottom=False);\n",
        "fig.set_ylabels(\"\");"
      ],
      "execution_count": null,
      "outputs": [
        {
          "output_type": "display_data",
          "data": {
            "image/png": "[encoded data removed]",
            "text/plain": [
              "<Figure size 576x720 with 1 Axes>"
            ]
          },
          "metadata": {
            "tags": [],
            "needs_background": "light"
          }
        }
      ]
    },
    {
      "cell_type": "markdown",
      "metadata": {
        "id": "XK7KeCWbMto0",
        "colab_type": "text"
      },
      "source": [
        "Now, lets plot the heat map. This is to show the most common property type per neighborhood. The stronger the colour the more common they are."
      ]
    },
    {
      "cell_type": "code",
      "metadata": {
        "id": "h5zoyCWpMssj",
        "colab_type": "code",
        "colab": {
          "base_uri": "https://localhost:8080/",
          "height": 800
        },
        "outputId": "c704dd3d-94f0-4996-a313-6489ad2d78ec"
      },
      "source": [
        "# Taking the property type and putting them into a two-column data frame\n",
        "df = properties.loc[~properties[\"Property Type Supergroup\"].isna()].groupby(\n",
        "    \"Location\")[\"Property Type Supergroup\"].value_counts()\n",
        "df.name = \"Value\"\n",
        "df = df.reset_index().pivot(index=\"Location\", columns=\"Property Type Supergroup\")\n",
        "df.columns = df.columns.droplevel(0)\n",
        "df = df.fillna(0)\n",
        "\n",
        "# we normalize the value to see the relativity of the data\n",
        "df_norm = df.apply(lambda x: x / x.sum(), axis=1)\n",
        "\n",
        "fix, ax = plt.subplots(figsize=(12, 12))\n",
        "hmap = sns.heatmap(\n",
        "    df_norm, square=True, vmin=0, cmap=\"Reds\", ax=ax, cbar=False)\n",
        "hmap.set_ylabel(None);\n",
        "hmap.set_xlabel(None);"
      ],
      "execution_count": null,
      "outputs": [
        {
          "output_type": "display_data",
          "data": {
            "image/png": "[encoded data removed]",
            "text/plain": [
              "<Figure size 864x864 with 1 Axes>"
            ]
          },
          "metadata": {
            "tags": [],
            "needs_background": "light"
          }
        }
      ]
    },
    {
      "cell_type": "markdown",
      "metadata": {
        "id": "We_1BzdmM4P2",
        "colab_type": "text"
      },
      "source": [
        "As mentioned earlier, land and built are two different thing that we cannot simply compare them. So we need to know how many land and built for each area.Land vs. Built-Up Area per Neighborhood"
      ]
    },
    {
      "cell_type": "code",
      "metadata": {
        "id": "xvSw_fPLM0SV",
        "colab_type": "code",
        "colab": {
          "base_uri": "https://localhost:8080/",
          "height": 1000
        },
        "outputId": "c5994c23-c9f0-4436-c89c-69a202df16d3"
      },
      "source": [
        "df = properties[[\"Location\", \"Size Type\", \"Size Num\"]].groupby(\n",
        "    [\"Location\", \"Size Type\"]).median().reset_index()\n",
        "fig = sns.catplot(\n",
        "    data=df, x=\"Size Num\", y=\"Location\", kind=\"bar\", \n",
        "    hue=\"Size Type\", height=20, aspect=0.4);\n",
        "\n",
        "fig.despine(left=True)\n",
        "fig.ax.tick_params(left=False);\n",
        "fig.set_ylabels(\"\");"
      ],
      "execution_count": null,
      "outputs": [
        {
          "output_type": "display_data",
          "data": {
            "image/png": "[encoded data removed]",
            "text/plain": [
              "<Figure size 661.75x1440 with 1 Axes>"
            ]
          },
          "metadata": {
            "tags": [],
            "needs_background": "light"
          }
        }
      ]
    },
    {
      "cell_type": "markdown",
      "metadata": {
        "id": "nxsa_907NA7j",
        "colab_type": "text"
      },
      "source": [
        "CHAPTER 3: FEATURE PROCESSING"
      ]
    },
    {
      "cell_type": "markdown",
      "metadata": {
        "id": "1su-IpcG-qey",
        "colab_type": "text"
      },
      "source": [
        "3.1 Feature Selection"
      ]
    },
    {
      "cell_type": "markdown",
      "metadata": {
        "id": "0eU_daBa-tAl",
        "colab_type": "text"
      },
      "source": [
        "Here is the consideration for our data. This is done to simplify the model and gain more accurate result later on:\n",
        "\n",
        "    Only \"built-up\" type is considered. We cannot mix land and built up because they can cause problems in our result later on.\n",
        "    Look only at entries without missing values for features.\n",
        "\n",
        "This means our model will only consider the following features:\n",
        "\n",
        "    Location (converted to binary dummy features)\n",
        "    Bathrooms\n",
        "    Car Parks\n",
        "    Furnishing\n",
        "    Rooms Num\n",
        "    Property Type Supergroup\n",
        "    Size Num\n",
        "\n",
        "The model will be trained to predict three dependent variables which are the price columns, Price, Price per Area, and Price per Room.\n",
        "\n",
        "Missing car park will be replace by 0. It might be not true but it is for the simplicity of our model. We dont make the same assumption on bathroom which should be at least one. We also remove furnishing with unknown status making it hard for the modelling."
      ]
    },
    {
      "cell_type": "code",
      "metadata": {
        "id": "gHVEdgGaNB-O",
        "colab_type": "code",
        "colab": {}
      },
      "source": [
        "# Collect data that only has built up type\n",
        "Xy = properties.loc[properties[\"Size Type\"] == \"Built-up\"]\n",
        "\n",
        "# We only keep the features we want to use in our modelling.\n",
        "Xy = Xy.loc[:, [\n",
        "    \"Location\", \"Bathrooms\", \"Car Parks\", \"Furnishing\", \n",
        "    \"Rooms Num\", \"Property Type Supergroup\", \"Size Num\", \n",
        "    \"Price\", \"Price per Area\", \"Price per Room\"]]\n",
        "\n",
        "# Replace any missing car park value with zero\n",
        "Xy.loc[:, \"Car Parks\"] = Xy[\"Car Parks\"].fillna(0)\n",
        "\n",
        "# Remove properties with missing values other than carpark\n",
        "Xy = Xy.loc[Xy.isna().sum(axis=1) == 0]\n",
        "\n",
        "# Remove properties with unknown furnishing status.\n",
        "Xy = Xy.loc[Xy[\"Furnishing\"] != \"Unknown\"]\n",
        "\n",
        "# Convert to dummy features. It is important as our modelling should be only containing numbers.\n",
        "Xy = pd.get_dummies(Xy)"
      ],
      "execution_count": null,
      "outputs": []
    },
    {
      "cell_type": "markdown",
      "metadata": {
        "id": "g3njBKLbQdQB",
        "colab_type": "text"
      },
      "source": [
        "Now lets check how the data looks. It now looks very neat for our modelling."
      ]
    },
    {
      "cell_type": "code",
      "metadata": {
        "id": "56c9icry_saI",
        "colab_type": "code",
        "colab": {
          "base_uri": "https://localhost:8080/",
          "height": 278
        },
        "outputId": "847017a7-5431-4210-eafc-37f34ecc128b"
      },
      "source": [
        "Xy.head()"
      ],
      "execution_count": null,
      "outputs": [
        {
          "output_type": "execute_result",
          "data": {
            "text/html": [
              "<div>\n",
              "<style scoped>\n",
              "    .dataframe tbody tr th:only-of-type {\n",
              "        vertical-align: middle;\n",
              "    }\n",
              "\n",
              "    .dataframe tbody tr th {\n",
              "        vertical-align: top;\n",
              "    }\n",
              "\n",
              "    .dataframe thead th {\n",
              "        text-align: right;\n",
              "    }\n",
              "</style>\n",
              "<table border=\"1\" class=\"dataframe\">\n",
              "  <thead>\n",
              "    <tr style=\"text-align: right;\">\n",
              "      <th></th>\n",
              "      <th>Bathrooms</th>\n",
              "      <th>Car Parks</th>\n",
              "      <th>Rooms Num</th>\n",
              "      <th>Size Num</th>\n",
              "      <th>Price</th>\n",
              "      <th>Price per Area</th>\n",
              "      <th>Price per Room</th>\n",
              "      <th>Location_ampang</th>\n",
              "      <th>Location_ampang hilir</th>\n",
              "      <th>Location_bandar damai perdana</th>\n",
              "      <th>Location_bandar menjalara</th>\n",
              "      <th>Location_bangsar</th>\n",
              "      <th>Location_bangsar south</th>\n",
              "      <th>Location_batu caves</th>\n",
              "      <th>Location_brickfields</th>\n",
              "      <th>Location_bukit bintang</th>\n",
              "      <th>Location_bukit jalil</th>\n",
              "      <th>Location_bukit tunku (kenny hills)</th>\n",
              "      <th>Location_cheras</th>\n",
              "      <th>Location_city centre</th>\n",
              "      <th>Location_country heights damansara</th>\n",
              "      <th>Location_damansara heights</th>\n",
              "      <th>Location_desa pandan</th>\n",
              "      <th>Location_desa parkcity</th>\n",
              "      <th>Location_desa petaling</th>\n",
              "      <th>Location_dutamas</th>\n",
              "      <th>Location_jalan ipoh</th>\n",
              "      <th>Location_jalan klang lama (old klang road)</th>\n",
              "      <th>Location_jalan kuching</th>\n",
              "      <th>Location_jalan sultan ismail</th>\n",
              "      <th>Location_kepong</th>\n",
              "      <th>Location_keramat</th>\n",
              "      <th>Location_kl city</th>\n",
              "      <th>Location_kl eco city</th>\n",
              "      <th>Location_kl sentral</th>\n",
              "      <th>Location_klcc</th>\n",
              "      <th>Location_kuchai lama</th>\n",
              "      <th>Location_mont kiara</th>\n",
              "      <th>Location_oug</th>\n",
              "      <th>Location_pandan perdana</th>\n",
              "      <th>Location_pantai</th>\n",
              "      <th>Location_salak selatan</th>\n",
              "      <th>Location_segambut</th>\n",
              "      <th>Location_sentul</th>\n",
              "      <th>Location_seputeh</th>\n",
              "      <th>Location_setapak</th>\n",
              "      <th>Location_setiawangsa</th>\n",
              "      <th>Location_sri hartamas</th>\n",
              "      <th>Location_sri petaling</th>\n",
              "      <th>Location_sungai besi</th>\n",
              "      <th>Location_sunway spk</th>\n",
              "      <th>Location_taman desa</th>\n",
              "      <th>Location_taman melawati</th>\n",
              "      <th>Location_taman tun dr ismail</th>\n",
              "      <th>Location_titiwangsa</th>\n",
              "      <th>Location_wangsa maju</th>\n",
              "      <th>Furnishing_Fully Furnished</th>\n",
              "      <th>Furnishing_Partly Furnished</th>\n",
              "      <th>Furnishing_Unfurnished</th>\n",
              "      <th>Property Type Supergroup_Apartment</th>\n",
              "      <th>Property Type Supergroup_Bungalow</th>\n",
              "      <th>Property Type Supergroup_Condominium</th>\n",
              "      <th>Property Type Supergroup_Flat</th>\n",
              "      <th>Property Type Supergroup_Residential Land</th>\n",
              "      <th>Property Type Supergroup_Semi-detached House</th>\n",
              "      <th>Property Type Supergroup_Serviced Residence</th>\n",
              "      <th>Property Type Supergroup_Terrace/Link House</th>\n",
              "      <th>Property Type Supergroup_Townhouse</th>\n",
              "    </tr>\n",
              "  </thead>\n",
              "  <tbody>\n",
              "    <tr>\n",
              "      <th>0</th>\n",
              "      <td>3.0</td>\n",
              "      <td>2.0</td>\n",
              "      <td>3.0</td>\n",
              "      <td>1335.0</td>\n",
              "      <td>1250000</td>\n",
              "      <td>936.329588</td>\n",
              "      <td>416666.666667</td>\n",
              "      <td>0</td>\n",
              "      <td>0</td>\n",
              "      <td>0</td>\n",
              "      <td>0</td>\n",
              "      <td>0</td>\n",
              "      <td>0</td>\n",
              "      <td>0</td>\n",
              "      <td>0</td>\n",
              "      <td>0</td>\n",
              "      <td>0</td>\n",
              "      <td>0</td>\n",
              "      <td>0</td>\n",
              "      <td>0</td>\n",
              "      <td>0</td>\n",
              "      <td>0</td>\n",
              "      <td>0</td>\n",
              "      <td>0</td>\n",
              "      <td>0</td>\n",
              "      <td>0</td>\n",
              "      <td>0</td>\n",
              "      <td>0</td>\n",
              "      <td>0</td>\n",
              "      <td>0</td>\n",
              "      <td>0</td>\n",
              "      <td>0</td>\n",
              "      <td>0</td>\n",
              "      <td>0</td>\n",
              "      <td>0</td>\n",
              "      <td>1</td>\n",
              "      <td>0</td>\n",
              "      <td>0</td>\n",
              "      <td>0</td>\n",
              "      <td>0</td>\n",
              "      <td>0</td>\n",
              "      <td>0</td>\n",
              "      <td>0</td>\n",
              "      <td>0</td>\n",
              "      <td>0</td>\n",
              "      <td>0</td>\n",
              "      <td>0</td>\n",
              "      <td>0</td>\n",
              "      <td>0</td>\n",
              "      <td>0</td>\n",
              "      <td>0</td>\n",
              "      <td>0</td>\n",
              "      <td>0</td>\n",
              "      <td>0</td>\n",
              "      <td>0</td>\n",
              "      <td>0</td>\n",
              "      <td>1</td>\n",
              "      <td>0</td>\n",
              "      <td>0</td>\n",
              "      <td>0</td>\n",
              "      <td>0</td>\n",
              "      <td>0</td>\n",
              "      <td>0</td>\n",
              "      <td>0</td>\n",
              "      <td>0</td>\n",
              "      <td>1</td>\n",
              "      <td>0</td>\n",
              "      <td>0</td>\n",
              "    </tr>\n",
              "    <tr>\n",
              "      <th>2</th>\n",
              "      <td>4.0</td>\n",
              "      <td>2.0</td>\n",
              "      <td>3.0</td>\n",
              "      <td>1875.0</td>\n",
              "      <td>1030000</td>\n",
              "      <td>549.333333</td>\n",
              "      <td>343333.333333</td>\n",
              "      <td>0</td>\n",
              "      <td>0</td>\n",
              "      <td>0</td>\n",
              "      <td>0</td>\n",
              "      <td>0</td>\n",
              "      <td>0</td>\n",
              "      <td>0</td>\n",
              "      <td>0</td>\n",
              "      <td>0</td>\n",
              "      <td>0</td>\n",
              "      <td>0</td>\n",
              "      <td>0</td>\n",
              "      <td>0</td>\n",
              "      <td>0</td>\n",
              "      <td>0</td>\n",
              "      <td>0</td>\n",
              "      <td>0</td>\n",
              "      <td>0</td>\n",
              "      <td>1</td>\n",
              "      <td>0</td>\n",
              "      <td>0</td>\n",
              "      <td>0</td>\n",
              "      <td>0</td>\n",
              "      <td>0</td>\n",
              "      <td>0</td>\n",
              "      <td>0</td>\n",
              "      <td>0</td>\n",
              "      <td>0</td>\n",
              "      <td>0</td>\n",
              "      <td>0</td>\n",
              "      <td>0</td>\n",
              "      <td>0</td>\n",
              "      <td>0</td>\n",
              "      <td>0</td>\n",
              "      <td>0</td>\n",
              "      <td>0</td>\n",
              "      <td>0</td>\n",
              "      <td>0</td>\n",
              "      <td>0</td>\n",
              "      <td>0</td>\n",
              "      <td>0</td>\n",
              "      <td>0</td>\n",
              "      <td>0</td>\n",
              "      <td>0</td>\n",
              "      <td>0</td>\n",
              "      <td>0</td>\n",
              "      <td>0</td>\n",
              "      <td>0</td>\n",
              "      <td>0</td>\n",
              "      <td>0</td>\n",
              "      <td>1</td>\n",
              "      <td>0</td>\n",
              "      <td>0</td>\n",
              "      <td>0</td>\n",
              "      <td>1</td>\n",
              "      <td>0</td>\n",
              "      <td>0</td>\n",
              "      <td>0</td>\n",
              "      <td>0</td>\n",
              "      <td>0</td>\n",
              "      <td>0</td>\n",
              "    </tr>\n",
              "    <tr>\n",
              "      <th>3</th>\n",
              "      <td>3.0</td>\n",
              "      <td>2.0</td>\n",
              "      <td>5.0</td>\n",
              "      <td>1513.0</td>\n",
              "      <td>900000</td>\n",
              "      <td>594.844679</td>\n",
              "      <td>180000.000000</td>\n",
              "      <td>0</td>\n",
              "      <td>0</td>\n",
              "      <td>0</td>\n",
              "      <td>0</td>\n",
              "      <td>0</td>\n",
              "      <td>0</td>\n",
              "      <td>0</td>\n",
              "      <td>0</td>\n",
              "      <td>0</td>\n",
              "      <td>1</td>\n",
              "      <td>0</td>\n",
              "      <td>0</td>\n",
              "      <td>0</td>\n",
              "      <td>0</td>\n",
              "      <td>0</td>\n",
              "      <td>0</td>\n",
              "      <td>0</td>\n",
              "      <td>0</td>\n",
              "      <td>0</td>\n",
              "      <td>0</td>\n",
              "      <td>0</td>\n",
              "      <td>0</td>\n",
              "      <td>0</td>\n",
              "      <td>0</td>\n",
              "      <td>0</td>\n",
              "      <td>0</td>\n",
              "      <td>0</td>\n",
              "      <td>0</td>\n",
              "      <td>0</td>\n",
              "      <td>0</td>\n",
              "      <td>0</td>\n",
              "      <td>0</td>\n",
              "      <td>0</td>\n",
              "      <td>0</td>\n",
              "      <td>0</td>\n",
              "      <td>0</td>\n",
              "      <td>0</td>\n",
              "      <td>0</td>\n",
              "      <td>0</td>\n",
              "      <td>0</td>\n",
              "      <td>0</td>\n",
              "      <td>0</td>\n",
              "      <td>0</td>\n",
              "      <td>0</td>\n",
              "      <td>0</td>\n",
              "      <td>0</td>\n",
              "      <td>0</td>\n",
              "      <td>0</td>\n",
              "      <td>0</td>\n",
              "      <td>0</td>\n",
              "      <td>1</td>\n",
              "      <td>0</td>\n",
              "      <td>0</td>\n",
              "      <td>0</td>\n",
              "      <td>1</td>\n",
              "      <td>0</td>\n",
              "      <td>0</td>\n",
              "      <td>0</td>\n",
              "      <td>0</td>\n",
              "      <td>0</td>\n",
              "      <td>0</td>\n",
              "    </tr>\n",
              "    <tr>\n",
              "      <th>7</th>\n",
              "      <td>2.0</td>\n",
              "      <td>1.0</td>\n",
              "      <td>3.0</td>\n",
              "      <td>904.0</td>\n",
              "      <td>385000</td>\n",
              "      <td>425.884956</td>\n",
              "      <td>128333.333333</td>\n",
              "      <td>0</td>\n",
              "      <td>0</td>\n",
              "      <td>0</td>\n",
              "      <td>0</td>\n",
              "      <td>0</td>\n",
              "      <td>0</td>\n",
              "      <td>0</td>\n",
              "      <td>0</td>\n",
              "      <td>0</td>\n",
              "      <td>0</td>\n",
              "      <td>0</td>\n",
              "      <td>0</td>\n",
              "      <td>0</td>\n",
              "      <td>0</td>\n",
              "      <td>0</td>\n",
              "      <td>0</td>\n",
              "      <td>0</td>\n",
              "      <td>0</td>\n",
              "      <td>0</td>\n",
              "      <td>0</td>\n",
              "      <td>0</td>\n",
              "      <td>0</td>\n",
              "      <td>0</td>\n",
              "      <td>0</td>\n",
              "      <td>0</td>\n",
              "      <td>0</td>\n",
              "      <td>0</td>\n",
              "      <td>0</td>\n",
              "      <td>0</td>\n",
              "      <td>0</td>\n",
              "      <td>0</td>\n",
              "      <td>0</td>\n",
              "      <td>0</td>\n",
              "      <td>0</td>\n",
              "      <td>0</td>\n",
              "      <td>0</td>\n",
              "      <td>0</td>\n",
              "      <td>0</td>\n",
              "      <td>0</td>\n",
              "      <td>0</td>\n",
              "      <td>0</td>\n",
              "      <td>1</td>\n",
              "      <td>0</td>\n",
              "      <td>0</td>\n",
              "      <td>0</td>\n",
              "      <td>0</td>\n",
              "      <td>0</td>\n",
              "      <td>0</td>\n",
              "      <td>0</td>\n",
              "      <td>0</td>\n",
              "      <td>1</td>\n",
              "      <td>0</td>\n",
              "      <td>1</td>\n",
              "      <td>0</td>\n",
              "      <td>0</td>\n",
              "      <td>0</td>\n",
              "      <td>0</td>\n",
              "      <td>0</td>\n",
              "      <td>0</td>\n",
              "      <td>0</td>\n",
              "      <td>0</td>\n",
              "    </tr>\n",
              "    <tr>\n",
              "      <th>13</th>\n",
              "      <td>7.0</td>\n",
              "      <td>0.0</td>\n",
              "      <td>6.0</td>\n",
              "      <td>4842.0</td>\n",
              "      <td>4500000</td>\n",
              "      <td>929.368030</td>\n",
              "      <td>750000.000000</td>\n",
              "      <td>0</td>\n",
              "      <td>0</td>\n",
              "      <td>0</td>\n",
              "      <td>0</td>\n",
              "      <td>0</td>\n",
              "      <td>0</td>\n",
              "      <td>0</td>\n",
              "      <td>0</td>\n",
              "      <td>0</td>\n",
              "      <td>0</td>\n",
              "      <td>0</td>\n",
              "      <td>0</td>\n",
              "      <td>0</td>\n",
              "      <td>0</td>\n",
              "      <td>1</td>\n",
              "      <td>0</td>\n",
              "      <td>0</td>\n",
              "      <td>0</td>\n",
              "      <td>0</td>\n",
              "      <td>0</td>\n",
              "      <td>0</td>\n",
              "      <td>0</td>\n",
              "      <td>0</td>\n",
              "      <td>0</td>\n",
              "      <td>0</td>\n",
              "      <td>0</td>\n",
              "      <td>0</td>\n",
              "      <td>0</td>\n",
              "      <td>0</td>\n",
              "      <td>0</td>\n",
              "      <td>0</td>\n",
              "      <td>0</td>\n",
              "      <td>0</td>\n",
              "      <td>0</td>\n",
              "      <td>0</td>\n",
              "      <td>0</td>\n",
              "      <td>0</td>\n",
              "      <td>0</td>\n",
              "      <td>0</td>\n",
              "      <td>0</td>\n",
              "      <td>0</td>\n",
              "      <td>0</td>\n",
              "      <td>0</td>\n",
              "      <td>0</td>\n",
              "      <td>0</td>\n",
              "      <td>0</td>\n",
              "      <td>0</td>\n",
              "      <td>0</td>\n",
              "      <td>0</td>\n",
              "      <td>0</td>\n",
              "      <td>1</td>\n",
              "      <td>0</td>\n",
              "      <td>0</td>\n",
              "      <td>1</td>\n",
              "      <td>0</td>\n",
              "      <td>0</td>\n",
              "      <td>0</td>\n",
              "      <td>0</td>\n",
              "      <td>0</td>\n",
              "      <td>0</td>\n",
              "      <td>0</td>\n",
              "    </tr>\n",
              "  </tbody>\n",
              "</table>\n",
              "</div>"
            ],
            "text/plain": [
              "    Bathrooms  ...  Property Type Supergroup_Townhouse\n",
              "0         3.0  ...                                   0\n",
              "2         4.0  ...                                   0\n",
              "3         3.0  ...                                   0\n",
              "7         2.0  ...                                   0\n",
              "13        7.0  ...                                   0\n",
              "\n",
              "[5 rows x 68 columns]"
            ]
          },
          "metadata": {
            "tags": []
          },
          "execution_count": 6
        }
      ]
    },
    {
      "cell_type": "markdown",
      "metadata": {
        "id": "EXGr8iWbQnly",
        "colab_type": "text"
      },
      "source": [
        "Now we check the shape. Shape function simply tells us how many column and how many rows we have. In the below situation, it is 32413 datas with 68 columns."
      ]
    },
    {
      "cell_type": "code",
      "metadata": {
        "id": "B2gIhIBRNF4q",
        "colab_type": "code",
        "colab": {
          "base_uri": "https://localhost:8080/",
          "height": 35
        },
        "outputId": "b9fbfd9f-ecc5-4020-ee4e-fc39e81d872b"
      },
      "source": [
        "print(\"Shape of data frame: {}\".format(Xy.shape))"
      ],
      "execution_count": null,
      "outputs": [
        {
          "output_type": "stream",
          "text": [
            "Shape of data frame: (32413, 68)\n"
          ],
          "name": "stdout"
        }
      ]
    },
    {
      "cell_type": "markdown",
      "metadata": {
        "id": "6eg6qMc1Ams0",
        "colab_type": "text"
      },
      "source": [
        "Now lets see what type of data in our dataframe.\n"
      ]
    },
    {
      "cell_type": "code",
      "metadata": {
        "id": "5484a4V1NIXh",
        "colab_type": "code",
        "colab": {
          "base_uri": "https://localhost:8080/",
          "height": 90
        },
        "outputId": "af650011-184e-4760-f2b2-2acc5632bd83"
      },
      "source": [
        "print(\"Data frame DTYPES:\")\n",
        "for dtype in Xy.dtypes.unique():\n",
        "    print(\" - {}\".format(dtype))"
      ],
      "execution_count": null,
      "outputs": [
        {
          "output_type": "stream",
          "text": [
            "Data frame DTYPES:\n",
            " - float64\n",
            " - int64\n",
            " - uint8\n"
          ],
          "name": "stdout"
        }
      ]
    },
    {
      "cell_type": "markdown",
      "metadata": {
        "id": "1-V6fMHWBM5P",
        "colab_type": "text"
      },
      "source": [
        "Because of some too big and too small data can be a thorn in our prediction and graph later, we remove Size Num outliers heuristically. Here we sorted the data to see how is the smallest size."
      ]
    },
    {
      "cell_type": "markdown",
      "metadata": {
        "id": "H8BFNkfOB3Er",
        "colab_type": "text"
      },
      "source": [
        "So here is the first 10 sorted data. The smallest reasonable value, as can be seen from the data, corresponds to 250\n",
        "square feet. This corresponds to a small studio apartment. Therefore we use this as the lower threshold for potential values."
      ]
    },
    {
      "cell_type": "code",
      "metadata": {
        "id": "vwzW4z5fNQwp",
        "colab_type": "code",
        "colab": {
          "base_uri": "https://localhost:8080/",
          "height": 217
        },
        "outputId": "1a743d3d-8817-4bba-ef4e-007d4b99e11c"
      },
      "source": [
        "Xy[\"Size Num\"].sort_values().head(10)"
      ],
      "execution_count": null,
      "outputs": [
        {
          "output_type": "execute_result",
          "data": {
            "text/plain": [
              "7613      11.0\n",
              "25889    250.0\n",
              "43557    250.0\n",
              "42397    250.0\n",
              "23189    250.0\n",
              "48544    250.0\n",
              "52514    250.0\n",
              "32912    250.0\n",
              "41337    250.0\n",
              "51410    250.0\n",
              "Name: Size Num, dtype: float64"
            ]
          },
          "metadata": {
            "tags": []
          },
          "execution_count": 9
        }
      ]
    },
    {
      "cell_type": "markdown",
      "metadata": {
        "id": "lTOXmk3OChVz",
        "colab_type": "text"
      },
      "source": [
        "Lets see how big the size could be. There appear to be several unreasonably large properties (820000 square feet corresponds to the approximate size of the Louvre museum in Paris, France)."
      ]
    },
    {
      "cell_type": "code",
      "metadata": {
        "id": "ibROxBvMNVWL",
        "colab_type": "code",
        "colab": {
          "base_uri": "https://localhost:8080/",
          "height": 399
        },
        "outputId": "65f3203e-8766-4224-c433-abe39fe6301e"
      },
      "source": [
        "Xy[\"Size Num\"].sort_values(ascending=False).head(20)"
      ],
      "execution_count": null,
      "outputs": [
        {
          "output_type": "execute_result",
          "data": {
            "text/plain": [
              "25890    820000.0\n",
              "2395     790000.0\n",
              "23152    690000.0\n",
              "9196     576000.0\n",
              "49975    320015.0\n",
              "42784    166821.0\n",
              "49951     60000.0\n",
              "28261     50000.0\n",
              "20761     23716.0\n",
              "44292     19180.0\n",
              "28415     18222.0\n",
              "42917     17000.0\n",
              "18794     17000.0\n",
              "11909     16500.0\n",
              "27398     15000.0\n",
              "51837     14875.0\n",
              "4612      14570.0\n",
              "37791     14410.0\n",
              "50851     13939.0\n",
              "44157     13000.0\n",
              "Name: Size Num, dtype: float64"
            ]
          },
          "metadata": {
            "tags": []
          },
          "execution_count": 10
        }
      ]
    },
    {
      "cell_type": "markdown",
      "metadata": {
        "id": "5lRgL9K7C-yC",
        "colab_type": "text"
      },
      "source": [
        "So lets heuristically set the cutoff at 20000 square feet for the maximum size of a property and 250 for minimum."
      ]
    },
    {
      "cell_type": "code",
      "metadata": {
        "id": "AktceW05NZFn",
        "colab_type": "code",
        "colab": {}
      },
      "source": [
        "Xy = Xy.loc[Xy[\"Size Num\"].between(250, 20000)]"
      ],
      "execution_count": null,
      "outputs": []
    },
    {
      "cell_type": "markdown",
      "metadata": {
        "id": "zALpboQTSANc",
        "colab_type": "text"
      },
      "source": [
        "We check again the shape. Should be less than previous one."
      ]
    },
    {
      "cell_type": "code",
      "metadata": {
        "id": "YvRHraziAlT2",
        "colab_type": "code",
        "colab": {
          "base_uri": "https://localhost:8080/",
          "height": 35
        },
        "outputId": "a8686fb4-60d9-4ec5-c983-d6ab2d50e9d6"
      },
      "source": [
        "print(\"Shape of data frame: {}\".format(Xy.shape))"
      ],
      "execution_count": null,
      "outputs": [
        {
          "output_type": "stream",
          "text": [
            "Shape of data frame: (32403, 68)\n"
          ],
          "name": "stdout"
        }
      ]
    },
    {
      "cell_type": "markdown",
      "metadata": {
        "id": "bmOkA2mqDJyr",
        "colab_type": "text"
      },
      "source": [
        "From the remaining three originally numerical columns, Bathrooms, Car Parks, and Rooms Num, lets trim the top and bottom 0.1% of all entries. This is to make the data looks cleaner."
      ]
    },
    {
      "cell_type": "code",
      "metadata": {
        "id": "hMAWaWKKNceh",
        "colab_type": "code",
        "colab": {}
      },
      "source": [
        "selectors = []\n",
        "for feature in [\"Bathrooms\", \"Car Parks\", \"Rooms Num\"]:\n",
        "    selectors.append(Xy[feature].between(\n",
        "        Xy[feature].quantile(0.001), \n",
        "        Xy[feature].quantile(0.999)))\n",
        "\n",
        "Xy = Xy.loc[(~pd.DataFrame(selectors).T).sum(axis=1) == 0]"
      ],
      "execution_count": null,
      "outputs": []
    },
    {
      "cell_type": "code",
      "metadata": {
        "id": "oXT45KxiBpNe",
        "colab_type": "code",
        "colab": {
          "base_uri": "https://localhost:8080/",
          "height": 35
        },
        "outputId": "6b97dd3e-e384-469b-bf82-7fd9f4be1eb6"
      },
      "source": [
        "print(\"Shape of data frame: {}\".format(Xy.shape))"
      ],
      "execution_count": null,
      "outputs": [
        {
          "output_type": "stream",
          "text": [
            "Shape of data frame: (32347, 68)\n"
          ],
          "name": "stdout"
        }
      ]
    },
    {
      "cell_type": "markdown",
      "metadata": {
        "id": "O7VeH0vtDdvy",
        "colab_type": "text"
      },
      "source": [
        "All further feature selection procedures beyond this will be performed on a subset of the data that will not be used for training the model itself to avoid overfitting. Here test is 25% and train is 75%. "
      ]
    },
    {
      "cell_type": "code",
      "metadata": {
        "id": "IE9Hb_GXNhGo",
        "colab_type": "code",
        "colab": {}
      },
      "source": [
        "Xy, Xy_feature_selection = sklearn.model_selection.train_test_split(\n",
        "    Xy, test_size=0.25, random_state=101)"
      ],
      "execution_count": null,
      "outputs": []
    },
    {
      "cell_type": "code",
      "metadata": {
        "id": "OPKGfvgENlaC",
        "colab_type": "code",
        "colab": {
          "base_uri": "https://localhost:8080/",
          "height": 35
        },
        "outputId": "a48020ae-5834-4380-f0fe-2ae425013d4b"
      },
      "source": [
        "Xy.shape"
      ],
      "execution_count": null,
      "outputs": [
        {
          "output_type": "execute_result",
          "data": {
            "text/plain": [
              "(24260, 68)"
            ]
          },
          "metadata": {
            "tags": []
          },
          "execution_count": 16
        }
      ]
    },
    {
      "cell_type": "code",
      "metadata": {
        "id": "-tIU-khnNtEC",
        "colab_type": "code",
        "colab": {
          "base_uri": "https://localhost:8080/",
          "height": 35
        },
        "outputId": "f92ba40c-e65f-49bf-9157-d8b406aac3e5"
      },
      "source": [
        "Xy_feature_selection.shape"
      ],
      "execution_count": null,
      "outputs": [
        {
          "output_type": "execute_result",
          "data": {
            "text/plain": [
              "(8087, 68)"
            ]
          },
          "metadata": {
            "tags": []
          },
          "execution_count": 17
        }
      ]
    },
    {
      "cell_type": "markdown",
      "metadata": {
        "id": "i45el5IWDlze",
        "colab_type": "text"
      },
      "source": [
        "3.2 Feature Scaling"
      ]
    },
    {
      "cell_type": "markdown",
      "metadata": {
        "id": "-q1fahChDmgg",
        "colab_type": "text"
      },
      "source": [
        "First, the original numerical features must be scaled. They are bathrooms, car parks, room nums and size nums. The binary dummy features don't need to be scaled. In this project they are location and furniture."
      ]
    },
    {
      "cell_type": "code",
      "metadata": {
        "id": "fuF6rfyONyoJ",
        "colab_type": "code",
        "colab": {
          "base_uri": "https://localhost:8080/",
          "height": 621
        },
        "outputId": "ec30f20b-1bbb-499f-cf79-13025c290d78"
      },
      "source": [
        "fig, ax = plt.subplots(2, 2, figsize=(10, 10));\n",
        "sns.countplot(data=Xy_feature_selection, x=\"Bathrooms\", ax=ax[0, 0], color=\"darkgrey\");\n",
        "ax[0, 0].set_title(\"Bathrooms\");\n",
        "sns.countplot(data=Xy_feature_selection, x=\"Car Parks\", ax=ax[0, 1], color=\"darkgrey\");\n",
        "ax[0, 1].set_title(\"Car Parks\");\n",
        "sns.countplot(data=Xy_feature_selection, x=\"Rooms Num\", ax=ax[1, 0], color=\"darkgrey\");\n",
        "ax[1, 0].set_title(\"Rooms Num\");\n",
        "sns.distplot(a=Xy_feature_selection[\"Size Num\"], bins=50, ax=ax[1, 1], color=\"darkgrey\");\n",
        "ax[1, 1].set_title(\"Size Num\");"
      ],
      "execution_count": null,
      "outputs": [
        {
          "output_type": "display_data",
          "data": {
            "image/png": "[encoded data removed]",
            "text/plain": [
              "<Figure size 720x720 with 4 Axes>"
            ]
          },
          "metadata": {
            "tags": [],
            "needs_background": "light"
          }
        }
      ]
    },
    {
      "cell_type": "markdown",
      "metadata": {
        "id": "19qyO4ZKDzI1",
        "colab_type": "text"
      },
      "source": [
        "As none of the features seem to be normally distributed, lets simply scale them to lie between 0 and 1. Note that the data sets for training and feature selection are scaled separately. This step is not so important but it can improve the modelling. \n"
      ]
    },
    {
      "cell_type": "code",
      "metadata": {
        "id": "LoEUS_hXN2r6",
        "colab_type": "code",
        "colab": {}
      },
      "source": [
        "cols = [\"Bathrooms\", \"Car Parks\", \"Rooms Num\", \"Size Num\"]\n",
        "Xy_feature_selection[cols] = sklearn.preprocessing.MinMaxScaler().fit_transform(\n",
        "    Xy_feature_selection[cols])\n",
        "Xy[cols] = sklearn.preprocessing.MinMaxScaler().fit_transform(Xy[cols])"
      ],
      "execution_count": null,
      "outputs": []
    },
    {
      "cell_type": "code",
      "metadata": {
        "id": "IlxHxn8BCSmj",
        "colab_type": "code",
        "colab": {
          "base_uri": "https://localhost:8080/",
          "height": 35
        },
        "outputId": "3bc4836e-2a80-4003-fda8-9d78d0bb4e74"
      },
      "source": [
        "print(\"Shape of data frame: {}\".format(Xy.shape))"
      ],
      "execution_count": null,
      "outputs": [
        {
          "output_type": "stream",
          "text": [
            "Shape of data frame: (24260, 68)\n"
          ],
          "name": "stdout"
        }
      ]
    },
    {
      "cell_type": "markdown",
      "metadata": {
        "id": "Ja2CcdinN8c7",
        "colab_type": "text"
      },
      "source": [
        "3.3 Feature Correlation"
      ]
    },
    {
      "cell_type": "markdown",
      "metadata": {
        "id": "q1SYs2jGToGT",
        "colab_type": "text"
      },
      "source": [
        "We dont need two data that will produce the same result for the modelling. Simply we only keep one. Now lets see the feature correlation between the independent variables (features)."
      ]
    },
    {
      "cell_type": "code",
      "metadata": {
        "id": "SHXHmAUyN9hA",
        "colab_type": "code",
        "colab": {
          "base_uri": "https://localhost:8080/",
          "height": 269
        },
        "outputId": "51d5db87-0d15-4f0f-e6dc-55fc9dc49aaf"
      },
      "source": [
        "hm_cmap = sns.diverging_palette(240, 0, s=99, l=50, as_cmap=True)\n",
        "df = Xy_feature_selection[[\"Bathrooms\", \"Car Parks\", \"Rooms Num\", \"Size Num\"]].corr()\n",
        "sns.heatmap(data=df, vmin=-1, vmax=1, cmap=hm_cmap, annot=df, annot_kws={\"size\": 20});"
      ],
      "execution_count": null,
      "outputs": [
        {
          "output_type": "display_data",
          "data": {
            "image/png": "[encoded data removed]",
            "text/plain": [
              "<Figure size 432x288 with 2 Axes>"
            ]
          },
          "metadata": {
            "tags": [],
            "needs_background": "light"
          }
        }
      ]
    },
    {
      "cell_type": "markdown",
      "metadata": {
        "id": "8_RZ-D2eEKM6",
        "colab_type": "text"
      },
      "source": [
        "Based on the above correlation matrix, the features Bathrooms and Rooms Num both correlate very strongly with Size Num and can be safely removed. \n"
      ]
    },
    {
      "cell_type": "code",
      "metadata": {
        "id": "qBfxz5ahOB3a",
        "colab_type": "code",
        "colab": {}
      },
      "source": [
        "Xy = Xy.drop([\"Bathrooms\", \"Rooms Num\"], axis=1)\n",
        "Xy_feature_selection = Xy_feature_selection.drop([\"Bathrooms\", \"Rooms Num\"], axis=1)"
      ],
      "execution_count": null,
      "outputs": []
    },
    {
      "cell_type": "code",
      "metadata": {
        "id": "AMnDmgoMCbcV",
        "colab_type": "code",
        "colab": {
          "base_uri": "https://localhost:8080/",
          "height": 35
        },
        "outputId": "2d46f610-7134-4774-bad2-03b71ce206bc"
      },
      "source": [
        "print(\"Shape of data frame: {}\".format(Xy.shape))"
      ],
      "execution_count": null,
      "outputs": [
        {
          "output_type": "stream",
          "text": [
            "Shape of data frame: (24260, 66)\n"
          ],
          "name": "stdout"
        }
      ]
    },
    {
      "cell_type": "markdown",
      "metadata": {
        "id": "-hRcKcHGEci-",
        "colab_type": "text"
      },
      "source": [
        "Now lets see the correlation of the dependent variables (features).\n"
      ]
    },
    {
      "cell_type": "code",
      "metadata": {
        "id": "yvU5AGPAODJT",
        "colab_type": "code",
        "colab": {
          "base_uri": "https://localhost:8080/",
          "height": 305
        },
        "outputId": "e62aa886-a08b-4bcd-d332-32c9deef44f5"
      },
      "source": [
        "df = Xy_feature_selection[[\"Price\", \"Price per Area\", \"Price per Room\"]].corr()\n",
        "sns.heatmap(\n",
        "    df, vmin=-1, vmax=1, cmap=hm_cmap, \n",
        "    annot=np.round(df, 2), annot_kws={\"size\": 20})"
      ],
      "execution_count": null,
      "outputs": [
        {
          "output_type": "execute_result",
          "data": {
            "text/plain": [
              "<matplotlib.axes._subplots.AxesSubplot at 0x7f6c11044cc0>"
            ]
          },
          "metadata": {
            "tags": []
          },
          "execution_count": 24
        },
        {
          "output_type": "display_data",
          "data": {
            "image/png": "[encoded data removed]",
            "text/plain": [
              "<Figure size 432x288 with 2 Axes>"
            ]
          },
          "metadata": {
            "tags": [],
            "needs_background": "light"
          }
        }
      ]
    },
    {
      "cell_type": "markdown",
      "metadata": {
        "id": "o2zRKRx6EkE-",
        "colab_type": "text"
      },
      "source": [
        "Price per Area and Price per Room correlate very strongly. Therefore Price per Room is removed."
      ]
    },
    {
      "cell_type": "code",
      "metadata": {
        "id": "dZ190lruOHo9",
        "colab_type": "code",
        "colab": {}
      },
      "source": [
        "Xy = Xy.drop(\"Price per Room\", axis=1)\n",
        "Xy_feature_selection = Xy_feature_selection.drop(\"Price per Room\", axis=1)"
      ],
      "execution_count": null,
      "outputs": []
    },
    {
      "cell_type": "markdown",
      "metadata": {
        "id": "iEcau_voOKqZ",
        "colab_type": "text"
      },
      "source": [
        "CHAPTER 4: MODELLING"
      ]
    },
    {
      "cell_type": "markdown",
      "metadata": {
        "id": "RrQhN-kcEtjr",
        "colab_type": "text"
      },
      "source": [
        "Split data into training and test set. The ratio is 80% for train and 20% for test.\n"
      ]
    },
    {
      "cell_type": "code",
      "metadata": {
        "id": "0qnK1LKcOLbg",
        "colab_type": "code",
        "colab": {}
      },
      "source": [
        "Xy_train, Xy_test = sklearn.model_selection.train_test_split(Xy, test_size=0.2, random_state=101)\n",
        "X_train = Xy_train.drop([\"Price\", \"Price per Area\"], axis=1)\n",
        "y_train = Xy_train[[\"Price\", \"Price per Area\"]]\n",
        "X_test = Xy_test.drop([\"Price\", \"Price per Area\"], axis=1)\n",
        "y_test = Xy_test[[\"Price\", \"Price per Area\"]]"
      ],
      "execution_count": null,
      "outputs": []
    },
    {
      "cell_type": "markdown",
      "metadata": {
        "id": "Z1qAO3vrVJ3V",
        "colab_type": "text"
      },
      "source": [
        "Lets check the data size before feeding into the model"
      ]
    },
    {
      "cell_type": "code",
      "metadata": {
        "id": "mPB0BBwLFPAk",
        "colab_type": "code",
        "colab": {
          "base_uri": "https://localhost:8080/",
          "height": 90
        },
        "outputId": "02e51701-cef0-4de0-a292-bc0d655652c8"
      },
      "source": [
        "print(\"Shape of data Xy_train: {}\".format(Xy_train.shape))\n",
        "print(\"Shape of data Xy_test: {}\".format(Xy_test.shape))\n",
        "print(\"Shape of data X_train: {}\".format(X_train.shape))\n",
        "print(\"Shape of data y_train: {}\".format(y_train.shape))"
      ],
      "execution_count": null,
      "outputs": [
        {
          "output_type": "stream",
          "text": [
            "Shape of data Xy_train: (19408, 65)\n",
            "Shape of data Xy_test: (4852, 65)\n",
            "Shape of data X_train: (19408, 63)\n",
            "Shape of data y_train: (19408, 2)\n"
          ],
          "name": "stdout"
        }
      ]
    },
    {
      "cell_type": "markdown",
      "metadata": {
        "id": "WW6JlPuYVPer",
        "colab_type": "text"
      },
      "source": [
        "Here is how the data looks like."
      ]
    },
    {
      "cell_type": "code",
      "metadata": {
        "id": "p9lQa4MzIoNl",
        "colab_type": "code",
        "colab": {
          "base_uri": "https://localhost:8080/",
          "height": 278
        },
        "outputId": "0350053b-24ea-40ef-b234-7235af8b10e4"
      },
      "source": [
        "X_test.head()"
      ],
      "execution_count": null,
      "outputs": [
        {
          "output_type": "execute_result",
          "data": {
            "text/html": [
              "<div>\n",
              "<style scoped>\n",
              "    .dataframe tbody tr th:only-of-type {\n",
              "        vertical-align: middle;\n",
              "    }\n",
              "\n",
              "    .dataframe tbody tr th {\n",
              "        vertical-align: top;\n",
              "    }\n",
              "\n",
              "    .dataframe thead th {\n",
              "        text-align: right;\n",
              "    }\n",
              "</style>\n",
              "<table border=\"1\" class=\"dataframe\">\n",
              "  <thead>\n",
              "    <tr style=\"text-align: right;\">\n",
              "      <th></th>\n",
              "      <th>Car Parks</th>\n",
              "      <th>Size Num</th>\n",
              "      <th>Location_ampang</th>\n",
              "      <th>Location_ampang hilir</th>\n",
              "      <th>Location_bandar damai perdana</th>\n",
              "      <th>Location_bandar menjalara</th>\n",
              "      <th>Location_bangsar</th>\n",
              "      <th>Location_bangsar south</th>\n",
              "      <th>Location_batu caves</th>\n",
              "      <th>Location_brickfields</th>\n",
              "      <th>Location_bukit bintang</th>\n",
              "      <th>Location_bukit jalil</th>\n",
              "      <th>Location_bukit tunku (kenny hills)</th>\n",
              "      <th>Location_cheras</th>\n",
              "      <th>Location_city centre</th>\n",
              "      <th>Location_country heights damansara</th>\n",
              "      <th>Location_damansara heights</th>\n",
              "      <th>Location_desa pandan</th>\n",
              "      <th>Location_desa parkcity</th>\n",
              "      <th>Location_desa petaling</th>\n",
              "      <th>Location_dutamas</th>\n",
              "      <th>Location_jalan ipoh</th>\n",
              "      <th>Location_jalan klang lama (old klang road)</th>\n",
              "      <th>Location_jalan kuching</th>\n",
              "      <th>Location_jalan sultan ismail</th>\n",
              "      <th>Location_kepong</th>\n",
              "      <th>Location_keramat</th>\n",
              "      <th>Location_kl city</th>\n",
              "      <th>Location_kl eco city</th>\n",
              "      <th>Location_kl sentral</th>\n",
              "      <th>Location_klcc</th>\n",
              "      <th>Location_kuchai lama</th>\n",
              "      <th>Location_mont kiara</th>\n",
              "      <th>Location_oug</th>\n",
              "      <th>Location_pandan perdana</th>\n",
              "      <th>Location_pantai</th>\n",
              "      <th>Location_salak selatan</th>\n",
              "      <th>Location_segambut</th>\n",
              "      <th>Location_sentul</th>\n",
              "      <th>Location_seputeh</th>\n",
              "      <th>Location_setapak</th>\n",
              "      <th>Location_setiawangsa</th>\n",
              "      <th>Location_sri hartamas</th>\n",
              "      <th>Location_sri petaling</th>\n",
              "      <th>Location_sungai besi</th>\n",
              "      <th>Location_sunway spk</th>\n",
              "      <th>Location_taman desa</th>\n",
              "      <th>Location_taman melawati</th>\n",
              "      <th>Location_taman tun dr ismail</th>\n",
              "      <th>Location_titiwangsa</th>\n",
              "      <th>Location_wangsa maju</th>\n",
              "      <th>Furnishing_Fully Furnished</th>\n",
              "      <th>Furnishing_Partly Furnished</th>\n",
              "      <th>Furnishing_Unfurnished</th>\n",
              "      <th>Property Type Supergroup_Apartment</th>\n",
              "      <th>Property Type Supergroup_Bungalow</th>\n",
              "      <th>Property Type Supergroup_Condominium</th>\n",
              "      <th>Property Type Supergroup_Flat</th>\n",
              "      <th>Property Type Supergroup_Residential Land</th>\n",
              "      <th>Property Type Supergroup_Semi-detached House</th>\n",
              "      <th>Property Type Supergroup_Serviced Residence</th>\n",
              "      <th>Property Type Supergroup_Terrace/Link House</th>\n",
              "      <th>Property Type Supergroup_Townhouse</th>\n",
              "    </tr>\n",
              "  </thead>\n",
              "  <tbody>\n",
              "    <tr>\n",
              "      <th>24421</th>\n",
              "      <td>0.285714</td>\n",
              "      <td>0.074379</td>\n",
              "      <td>0</td>\n",
              "      <td>0</td>\n",
              "      <td>0</td>\n",
              "      <td>0</td>\n",
              "      <td>0</td>\n",
              "      <td>0</td>\n",
              "      <td>0</td>\n",
              "      <td>0</td>\n",
              "      <td>0</td>\n",
              "      <td>0</td>\n",
              "      <td>0</td>\n",
              "      <td>0</td>\n",
              "      <td>0</td>\n",
              "      <td>0</td>\n",
              "      <td>0</td>\n",
              "      <td>0</td>\n",
              "      <td>0</td>\n",
              "      <td>0</td>\n",
              "      <td>0</td>\n",
              "      <td>0</td>\n",
              "      <td>0</td>\n",
              "      <td>0</td>\n",
              "      <td>0</td>\n",
              "      <td>0</td>\n",
              "      <td>0</td>\n",
              "      <td>0</td>\n",
              "      <td>0</td>\n",
              "      <td>0</td>\n",
              "      <td>0</td>\n",
              "      <td>1</td>\n",
              "      <td>0</td>\n",
              "      <td>0</td>\n",
              "      <td>0</td>\n",
              "      <td>0</td>\n",
              "      <td>0</td>\n",
              "      <td>0</td>\n",
              "      <td>0</td>\n",
              "      <td>0</td>\n",
              "      <td>0</td>\n",
              "      <td>0</td>\n",
              "      <td>0</td>\n",
              "      <td>0</td>\n",
              "      <td>0</td>\n",
              "      <td>0</td>\n",
              "      <td>0</td>\n",
              "      <td>0</td>\n",
              "      <td>0</td>\n",
              "      <td>0</td>\n",
              "      <td>0</td>\n",
              "      <td>0</td>\n",
              "      <td>1</td>\n",
              "      <td>0</td>\n",
              "      <td>0</td>\n",
              "      <td>0</td>\n",
              "      <td>1</td>\n",
              "      <td>0</td>\n",
              "      <td>0</td>\n",
              "      <td>0</td>\n",
              "      <td>0</td>\n",
              "      <td>0</td>\n",
              "      <td>0</td>\n",
              "    </tr>\n",
              "    <tr>\n",
              "      <th>9907</th>\n",
              "      <td>0.285714</td>\n",
              "      <td>0.048494</td>\n",
              "      <td>0</td>\n",
              "      <td>0</td>\n",
              "      <td>0</td>\n",
              "      <td>0</td>\n",
              "      <td>0</td>\n",
              "      <td>0</td>\n",
              "      <td>0</td>\n",
              "      <td>0</td>\n",
              "      <td>0</td>\n",
              "      <td>0</td>\n",
              "      <td>0</td>\n",
              "      <td>0</td>\n",
              "      <td>0</td>\n",
              "      <td>0</td>\n",
              "      <td>0</td>\n",
              "      <td>0</td>\n",
              "      <td>0</td>\n",
              "      <td>0</td>\n",
              "      <td>0</td>\n",
              "      <td>0</td>\n",
              "      <td>0</td>\n",
              "      <td>0</td>\n",
              "      <td>0</td>\n",
              "      <td>0</td>\n",
              "      <td>0</td>\n",
              "      <td>0</td>\n",
              "      <td>0</td>\n",
              "      <td>0</td>\n",
              "      <td>0</td>\n",
              "      <td>0</td>\n",
              "      <td>0</td>\n",
              "      <td>0</td>\n",
              "      <td>0</td>\n",
              "      <td>0</td>\n",
              "      <td>0</td>\n",
              "      <td>1</td>\n",
              "      <td>0</td>\n",
              "      <td>0</td>\n",
              "      <td>0</td>\n",
              "      <td>0</td>\n",
              "      <td>0</td>\n",
              "      <td>0</td>\n",
              "      <td>0</td>\n",
              "      <td>0</td>\n",
              "      <td>0</td>\n",
              "      <td>0</td>\n",
              "      <td>0</td>\n",
              "      <td>0</td>\n",
              "      <td>0</td>\n",
              "      <td>1</td>\n",
              "      <td>0</td>\n",
              "      <td>0</td>\n",
              "      <td>0</td>\n",
              "      <td>0</td>\n",
              "      <td>1</td>\n",
              "      <td>0</td>\n",
              "      <td>0</td>\n",
              "      <td>0</td>\n",
              "      <td>0</td>\n",
              "      <td>0</td>\n",
              "      <td>0</td>\n",
              "    </tr>\n",
              "    <tr>\n",
              "      <th>8231</th>\n",
              "      <td>0.285714</td>\n",
              "      <td>0.062916</td>\n",
              "      <td>0</td>\n",
              "      <td>0</td>\n",
              "      <td>0</td>\n",
              "      <td>0</td>\n",
              "      <td>0</td>\n",
              "      <td>0</td>\n",
              "      <td>0</td>\n",
              "      <td>0</td>\n",
              "      <td>0</td>\n",
              "      <td>0</td>\n",
              "      <td>0</td>\n",
              "      <td>1</td>\n",
              "      <td>0</td>\n",
              "      <td>0</td>\n",
              "      <td>0</td>\n",
              "      <td>0</td>\n",
              "      <td>0</td>\n",
              "      <td>0</td>\n",
              "      <td>0</td>\n",
              "      <td>0</td>\n",
              "      <td>0</td>\n",
              "      <td>0</td>\n",
              "      <td>0</td>\n",
              "      <td>0</td>\n",
              "      <td>0</td>\n",
              "      <td>0</td>\n",
              "      <td>0</td>\n",
              "      <td>0</td>\n",
              "      <td>0</td>\n",
              "      <td>0</td>\n",
              "      <td>0</td>\n",
              "      <td>0</td>\n",
              "      <td>0</td>\n",
              "      <td>0</td>\n",
              "      <td>0</td>\n",
              "      <td>0</td>\n",
              "      <td>0</td>\n",
              "      <td>0</td>\n",
              "      <td>0</td>\n",
              "      <td>0</td>\n",
              "      <td>0</td>\n",
              "      <td>0</td>\n",
              "      <td>0</td>\n",
              "      <td>0</td>\n",
              "      <td>0</td>\n",
              "      <td>0</td>\n",
              "      <td>0</td>\n",
              "      <td>0</td>\n",
              "      <td>0</td>\n",
              "      <td>0</td>\n",
              "      <td>0</td>\n",
              "      <td>1</td>\n",
              "      <td>0</td>\n",
              "      <td>0</td>\n",
              "      <td>0</td>\n",
              "      <td>0</td>\n",
              "      <td>0</td>\n",
              "      <td>0</td>\n",
              "      <td>0</td>\n",
              "      <td>1</td>\n",
              "      <td>0</td>\n",
              "    </tr>\n",
              "    <tr>\n",
              "      <th>23369</th>\n",
              "      <td>0.142857</td>\n",
              "      <td>0.028896</td>\n",
              "      <td>0</td>\n",
              "      <td>0</td>\n",
              "      <td>0</td>\n",
              "      <td>0</td>\n",
              "      <td>0</td>\n",
              "      <td>0</td>\n",
              "      <td>0</td>\n",
              "      <td>0</td>\n",
              "      <td>0</td>\n",
              "      <td>0</td>\n",
              "      <td>0</td>\n",
              "      <td>1</td>\n",
              "      <td>0</td>\n",
              "      <td>0</td>\n",
              "      <td>0</td>\n",
              "      <td>0</td>\n",
              "      <td>0</td>\n",
              "      <td>0</td>\n",
              "      <td>0</td>\n",
              "      <td>0</td>\n",
              "      <td>0</td>\n",
              "      <td>0</td>\n",
              "      <td>0</td>\n",
              "      <td>0</td>\n",
              "      <td>0</td>\n",
              "      <td>0</td>\n",
              "      <td>0</td>\n",
              "      <td>0</td>\n",
              "      <td>0</td>\n",
              "      <td>0</td>\n",
              "      <td>0</td>\n",
              "      <td>0</td>\n",
              "      <td>0</td>\n",
              "      <td>0</td>\n",
              "      <td>0</td>\n",
              "      <td>0</td>\n",
              "      <td>0</td>\n",
              "      <td>0</td>\n",
              "      <td>0</td>\n",
              "      <td>0</td>\n",
              "      <td>0</td>\n",
              "      <td>0</td>\n",
              "      <td>0</td>\n",
              "      <td>0</td>\n",
              "      <td>0</td>\n",
              "      <td>0</td>\n",
              "      <td>0</td>\n",
              "      <td>0</td>\n",
              "      <td>0</td>\n",
              "      <td>0</td>\n",
              "      <td>1</td>\n",
              "      <td>0</td>\n",
              "      <td>0</td>\n",
              "      <td>0</td>\n",
              "      <td>1</td>\n",
              "      <td>0</td>\n",
              "      <td>0</td>\n",
              "      <td>0</td>\n",
              "      <td>0</td>\n",
              "      <td>0</td>\n",
              "      <td>0</td>\n",
              "    </tr>\n",
              "    <tr>\n",
              "      <th>26624</th>\n",
              "      <td>0.285714</td>\n",
              "      <td>0.061067</td>\n",
              "      <td>0</td>\n",
              "      <td>0</td>\n",
              "      <td>0</td>\n",
              "      <td>0</td>\n",
              "      <td>0</td>\n",
              "      <td>0</td>\n",
              "      <td>0</td>\n",
              "      <td>0</td>\n",
              "      <td>0</td>\n",
              "      <td>0</td>\n",
              "      <td>0</td>\n",
              "      <td>0</td>\n",
              "      <td>0</td>\n",
              "      <td>0</td>\n",
              "      <td>0</td>\n",
              "      <td>0</td>\n",
              "      <td>0</td>\n",
              "      <td>0</td>\n",
              "      <td>0</td>\n",
              "      <td>0</td>\n",
              "      <td>1</td>\n",
              "      <td>0</td>\n",
              "      <td>0</td>\n",
              "      <td>0</td>\n",
              "      <td>0</td>\n",
              "      <td>0</td>\n",
              "      <td>0</td>\n",
              "      <td>0</td>\n",
              "      <td>0</td>\n",
              "      <td>0</td>\n",
              "      <td>0</td>\n",
              "      <td>0</td>\n",
              "      <td>0</td>\n",
              "      <td>0</td>\n",
              "      <td>0</td>\n",
              "      <td>0</td>\n",
              "      <td>0</td>\n",
              "      <td>0</td>\n",
              "      <td>0</td>\n",
              "      <td>0</td>\n",
              "      <td>0</td>\n",
              "      <td>0</td>\n",
              "      <td>0</td>\n",
              "      <td>0</td>\n",
              "      <td>0</td>\n",
              "      <td>0</td>\n",
              "      <td>0</td>\n",
              "      <td>0</td>\n",
              "      <td>0</td>\n",
              "      <td>0</td>\n",
              "      <td>1</td>\n",
              "      <td>0</td>\n",
              "      <td>0</td>\n",
              "      <td>0</td>\n",
              "      <td>1</td>\n",
              "      <td>0</td>\n",
              "      <td>0</td>\n",
              "      <td>0</td>\n",
              "      <td>0</td>\n",
              "      <td>0</td>\n",
              "      <td>0</td>\n",
              "    </tr>\n",
              "  </tbody>\n",
              "</table>\n",
              "</div>"
            ],
            "text/plain": [
              "       Car Parks  ...  Property Type Supergroup_Townhouse\n",
              "24421   0.285714  ...                                   0\n",
              "9907    0.285714  ...                                   0\n",
              "8231    0.285714  ...                                   0\n",
              "23369   0.142857  ...                                   0\n",
              "26624   0.285714  ...                                   0\n",
              "\n",
              "[5 rows x 63 columns]"
            ]
          },
          "metadata": {
            "tags": []
          },
          "execution_count": 32
        }
      ]
    },
    {
      "cell_type": "code",
      "metadata": {
        "id": "12MO2-CLIzff",
        "colab_type": "code",
        "colab": {
          "base_uri": "https://localhost:8080/",
          "height": 206
        },
        "outputId": "6f56a641-c694-4ab2-9c76-4152c29a3cc4"
      },
      "source": [
        "y_test.head()"
      ],
      "execution_count": null,
      "outputs": [
        {
          "output_type": "execute_result",
          "data": {
            "text/html": [
              "<div>\n",
              "<style scoped>\n",
              "    .dataframe tbody tr th:only-of-type {\n",
              "        vertical-align: middle;\n",
              "    }\n",
              "\n",
              "    .dataframe tbody tr th {\n",
              "        vertical-align: top;\n",
              "    }\n",
              "\n",
              "    .dataframe thead th {\n",
              "        text-align: right;\n",
              "    }\n",
              "</style>\n",
              "<table border=\"1\" class=\"dataframe\">\n",
              "  <thead>\n",
              "    <tr style=\"text-align: right;\">\n",
              "      <th></th>\n",
              "      <th>Price</th>\n",
              "      <th>Price per Area</th>\n",
              "    </tr>\n",
              "  </thead>\n",
              "  <tbody>\n",
              "    <tr>\n",
              "      <th>24421</th>\n",
              "      <td>980000</td>\n",
              "      <td>591.073583</td>\n",
              "    </tr>\n",
              "    <tr>\n",
              "      <th>9907</th>\n",
              "      <td>740000</td>\n",
              "      <td>633.561644</td>\n",
              "    </tr>\n",
              "    <tr>\n",
              "      <th>8231</th>\n",
              "      <td>620000</td>\n",
              "      <td>430.256766</td>\n",
              "    </tr>\n",
              "    <tr>\n",
              "      <th>23369</th>\n",
              "      <td>399000</td>\n",
              "      <td>500.627353</td>\n",
              "    </tr>\n",
              "    <tr>\n",
              "      <th>26624</th>\n",
              "      <td>758000</td>\n",
              "      <td>539.118065</td>\n",
              "    </tr>\n",
              "  </tbody>\n",
              "</table>\n",
              "</div>"
            ],
            "text/plain": [
              "        Price  Price per Area\n",
              "24421  980000      591.073583\n",
              "9907   740000      633.561644\n",
              "8231   620000      430.256766\n",
              "23369  399000      500.627353\n",
              "26624  758000      539.118065"
            ]
          },
          "metadata": {
            "tags": []
          },
          "execution_count": 33
        }
      ]
    },
    {
      "cell_type": "markdown",
      "metadata": {
        "id": "lgOCDehVE7R7",
        "colab_type": "text"
      },
      "source": [
        "Below is the function to train and test using linear regressin model. The function simply return 3 evaulation metrics which are R-Squared, Mean Absolute Error (MAE) and Mean Squared Error (MSE).\n"
      ]
    },
    {
      "cell_type": "code",
      "metadata": {
        "id": "IcsxGC1oOP1C",
        "colab_type": "code",
        "colab": {}
      },
      "source": [
        "def train_and_test_model(\n",
        "        model, X_train=X_train, y_train=y_train, \n",
        "        X_test=X_test, y_test=y_test, **kwargs):\n",
        "    model.fit(X_train, y_train, **kwargs)\n",
        "    y_pred = model.predict(X_test)\n",
        "\n",
        "    r2 = sklearn.metrics.r2_score(y_true=y_test, y_pred=y_pred)\n",
        "    mae = mean_absolute_error(y_true=y_test, y_pred=y_pred)\n",
        "    mse = mean_squared_error(y_true=y_test, y_pred=y_pred)\n",
        "    return model, r2, mae, mse"
      ],
      "execution_count": null,
      "outputs": []
    },
    {
      "cell_type": "markdown",
      "metadata": {
        "id": "rn3iZrKAVm7y",
        "colab_type": "text"
      },
      "source": [
        "Now we train the model."
      ]
    },
    {
      "cell_type": "code",
      "metadata": {
        "id": "PwJ2-fhYOSLX",
        "colab_type": "code",
        "colab": {
          "base_uri": "https://localhost:8080/",
          "height": 126
        },
        "outputId": "68cadd2c-870c-4dbe-cd81-3a82bfa0f377"
      },
      "source": [
        "model, r2,mae, mse = train_and_test_model(\n",
        "    model = sklearn.linear_model.LinearRegression(), \n",
        "    X_train=X_train, y_train=y_train[\"Price\"], \n",
        "    X_test=X_test, y_test=y_test[\"Price\"])\n",
        "print(\"R^2 for prediction of 'Price': {:.2f}\".format(r2))\n",
        "print(\"Mean absolute error for prediction of 'Price': {:.2f}\".format(mae))\n",
        "print(\"Mean squared error for prediction of 'Price': {:.2f}\".format(mse))\n",
        "\n",
        "model, r2,mae, mse = train_and_test_model(\n",
        "    model = sklearn.linear_model.LinearRegression(), \n",
        "    X_train=X_train, y_train=y_train[\"Price per Area\"], \n",
        "    X_test=X_test, y_test=y_test[\"Price per Area\"])\n",
        "\n",
        "print(\"R^2 for prediction of 'Price per Area': {:.2f}\".format(r2))\n",
        "print(\"Mean absolute error for prediction of 'Price': {:.2f}\".format(mae))\n",
        "print(\"Mean squared error for prediction of 'Price': {:.2f}\".format(mse))"
      ],
      "execution_count": null,
      "outputs": [
        {
          "output_type": "stream",
          "text": [
            "R^2 for prediction of 'Price': 0.67\n",
            "Mean absolute error for prediction of 'Price': 466443.41\n",
            "Mean squared error for prediction of 'Price': 697923604177.54\n",
            "R^2 for prediction of 'Price per Area': 0.51\n",
            "Mean absolute error for prediction of 'Price': 198.00\n",
            "Mean squared error for prediction of 'Price': 98368.78\n"
          ],
          "name": "stdout"
        }
      ]
    },
    {
      "cell_type": "markdown",
      "metadata": {
        "id": "d9qk5Hn_FOAC",
        "colab_type": "text"
      },
      "source": [
        "Neither of the targets can be predicted with a satisfying accuracy. This is most likely due to the overwhelming number of sparse binary features. So now, we will try with neural networks.\n"
      ]
    },
    {
      "cell_type": "code",
      "metadata": {
        "id": "XUx0nzWBOl1K",
        "colab_type": "code",
        "colab": {}
      },
      "source": [
        "def make_fcn_model():\n",
        "    model = keras.models.Sequential()\n",
        "    model.add(keras.layers.Dense(units=32, activation=\"relu\", input_shape=(X_train.shape[1],)))\n",
        "    model.add(keras.layers.Dense(units=32, activation=\"relu\"))\n",
        "    model.add(keras.layers.Dense(units=32, activation=\"relu\"))\n",
        "    model.add(keras.layers.Dense(units=1, activation=\"relu\"))\n",
        "    model.compile(loss=\"mse\", optimizer=\"Adam\")\n",
        "    return model"
      ],
      "execution_count": null,
      "outputs": []
    },
    {
      "cell_type": "code",
      "metadata": {
        "id": "tgG55BAIOpTe",
        "colab_type": "code",
        "colab": {
          "base_uri": "https://localhost:8080/",
          "height": 126
        },
        "outputId": "0255d96d-ac54-4299-901e-d2614bab3fdf"
      },
      "source": [
        "model, r2,mae, mse = train_and_test_model(\n",
        "    model = make_fcn_model(), \n",
        "    X_train=X_train, y_train=y_train[\"Price\"], \n",
        "    X_test=X_test, y_test=y_test[\"Price\"], \n",
        "    batch_size=8, epochs=10, verbose=0)\n",
        "print(\"R^2 for prediction of 'Price': {:.2f}\".format(r2))\n",
        "print(\"Mean absolute error for prediction of 'Price': {:.2f}\".format(mae))\n",
        "print(\"Mean squared error for prediction of 'Price': {:.2f}\".format(mse))\n",
        "\n",
        "model, r2,mae, mse = train_and_test_model(\n",
        "    model = make_fcn_model(), \n",
        "    X_train=X_train, y_train=y_train[\"Price per Area\"], \n",
        "    X_test=X_test, y_test=y_test[\"Price per Area\"], \n",
        "    batch_size=8, epochs=10, verbose=0)\n",
        "print(\"R^2 for prediction of 'Price per Area': {:.2f}\".format(r2))\n",
        "print(\"Mean absolute error for prediction of 'Price per Area': {:.2f}\".format(mae))\n",
        "print(\"Mean squared error for prediction of 'Price pe Area': {:.2f}\".format(mse))"
      ],
      "execution_count": 38,
      "outputs": [
        {
          "output_type": "stream",
          "text": [
            "R^2 for prediction of 'Price': 0.38\n",
            "Mean absolute error for prediction of 'Price': 625794.92\n",
            "Mean squared error for prediction of 'Price': 1305428831301.19\n",
            "R^2 for prediction of 'Price per Area': 0.56\n",
            "Mean absolute error for prediction of 'Price per Area': 178.68\n",
            "Mean squared error for prediction of 'Price pe Area': 88163.25\n"
          ],
          "name": "stdout"
        }
      ]
    },
    {
      "cell_type": "markdown",
      "metadata": {
        "id": "7ATgOTLFK1xh",
        "colab_type": "text"
      },
      "source": [
        "Let try another way by eliminating all the location and generalize the data only by the size num and determine only the price not price per area and also focus on regression algorithm"
      ]
    },
    {
      "cell_type": "code",
      "metadata": {
        "id": "kynomb1eVCHj",
        "colab_type": "code",
        "colab": {}
      },
      "source": [
        "properties = pd.read_csv(\"/content/drive/My Drive/Properties_preprocessed.csv\")\n",
        "\n",
        "# Remove entries with \"land area\" in the \"Size Type\" column\n",
        "Xy = properties.loc[properties[\"Size Type\"] == \"Built-up\"]\n",
        "\n",
        "# Keep only the relevant features\n",
        "Xy = Xy.loc[:, [\n",
        "    \"Bathrooms\", \"Car Parks\",\n",
        "    \"Rooms Num\", \"Size Num\", \n",
        "    \"Price\", \"Price per Area\", \"Price per Room\"]]\n",
        "\n",
        "# Fill missing Car Parks feature values\n",
        "Xy.loc[:, \"Car Parks\"] = Xy[\"Car Parks\"].fillna(0)\n",
        "\n",
        "# Remove entries with missing values\n",
        "Xy = Xy.loc[Xy.isna().sum(axis=1) == 0]\n",
        "\n",
        "# Convert to dummy features\n",
        "Xy = pd.get_dummies(Xy)\n",
        "\n",
        "Xy = Xy.loc[Xy[\"Size Num\"].between(250, 20000)]\n",
        "\n",
        "selectors = []\n",
        "for feature in [\"Bathrooms\", \"Car Parks\", \"Rooms Num\"]:\n",
        "    selectors.append(Xy[feature].between(\n",
        "        Xy[feature].quantile(0.001), \n",
        "        Xy[feature].quantile(0.999)))\n",
        "\n",
        "Xy = Xy.loc[(~pd.DataFrame(selectors).T).sum(axis=1) == 0]\n",
        "\n",
        "Xy, Xy_feature_selection = sklearn.model_selection.train_test_split(\n",
        "    Xy, test_size=0.25, random_state=101)\n",
        "\n",
        "cols = [\"Bathrooms\", \"Car Parks\", \"Rooms Num\", \"Size Num\"]\n",
        "\n",
        "\n",
        "Xy = Xy.drop(\"Price per Room\", axis=1)\n",
        "Xy_feature_selection = Xy_feature_selection.drop(\"Price per Room\", axis=1)\n",
        "\n",
        "Xy_train, Xy_test = sklearn.model_selection.train_test_split(Xy, test_size=0.2, random_state=101)\n",
        "X_train = Xy_train.drop([\"Price\", \"Price per Area\"], axis=1)\n",
        "y_train = Xy_train[[\"Price\", \"Price per Area\"]]\n",
        "X_test = Xy_test.drop([\"Price\", \"Price per Area\"], axis=1)\n",
        "y_test = Xy_test[[\"Price\", \"Price per Area\"]]"
      ],
      "execution_count": 40,
      "outputs": []
    },
    {
      "cell_type": "code",
      "metadata": {
        "id": "FUg93CQLXLAu",
        "colab_type": "code",
        "colab": {
          "base_uri": "https://localhost:8080/",
          "height": 206
        },
        "outputId": "41b20973-2f22-41ca-95f9-536b955809ca"
      },
      "source": [
        "X_train.head()"
      ],
      "execution_count": 41,
      "outputs": [
        {
          "output_type": "execute_result",
          "data": {
            "text/html": [
              "<div>\n",
              "<style scoped>\n",
              "    .dataframe tbody tr th:only-of-type {\n",
              "        vertical-align: middle;\n",
              "    }\n",
              "\n",
              "    .dataframe tbody tr th {\n",
              "        vertical-align: top;\n",
              "    }\n",
              "\n",
              "    .dataframe thead th {\n",
              "        text-align: right;\n",
              "    }\n",
              "</style>\n",
              "<table border=\"1\" class=\"dataframe\">\n",
              "  <thead>\n",
              "    <tr style=\"text-align: right;\">\n",
              "      <th></th>\n",
              "      <th>Bathrooms</th>\n",
              "      <th>Car Parks</th>\n",
              "      <th>Rooms Num</th>\n",
              "      <th>Size Num</th>\n",
              "    </tr>\n",
              "  </thead>\n",
              "  <tbody>\n",
              "    <tr>\n",
              "      <th>52181</th>\n",
              "      <td>4.0</td>\n",
              "      <td>2.0</td>\n",
              "      <td>4.0</td>\n",
              "      <td>1822.0</td>\n",
              "    </tr>\n",
              "    <tr>\n",
              "      <th>15273</th>\n",
              "      <td>3.0</td>\n",
              "      <td>2.0</td>\n",
              "      <td>4.0</td>\n",
              "      <td>2026.0</td>\n",
              "    </tr>\n",
              "    <tr>\n",
              "      <th>44848</th>\n",
              "      <td>2.0</td>\n",
              "      <td>1.0</td>\n",
              "      <td>3.0</td>\n",
              "      <td>1205.0</td>\n",
              "    </tr>\n",
              "    <tr>\n",
              "      <th>6421</th>\n",
              "      <td>2.0</td>\n",
              "      <td>2.0</td>\n",
              "      <td>3.0</td>\n",
              "      <td>1060.0</td>\n",
              "    </tr>\n",
              "    <tr>\n",
              "      <th>10039</th>\n",
              "      <td>2.0</td>\n",
              "      <td>2.0</td>\n",
              "      <td>3.0</td>\n",
              "      <td>1350.0</td>\n",
              "    </tr>\n",
              "  </tbody>\n",
              "</table>\n",
              "</div>"
            ],
            "text/plain": [
              "       Bathrooms  Car Parks  Rooms Num  Size Num\n",
              "52181        4.0        2.0        4.0    1822.0\n",
              "15273        3.0        2.0        4.0    2026.0\n",
              "44848        2.0        1.0        3.0    1205.0\n",
              "6421         2.0        2.0        3.0    1060.0\n",
              "10039        2.0        2.0        3.0    1350.0"
            ]
          },
          "metadata": {
            "tags": []
          },
          "execution_count": 41
        }
      ]
    },
    {
      "cell_type": "code",
      "metadata": {
        "id": "IoQguuGpRSzp",
        "colab_type": "code",
        "colab": {
          "base_uri": "https://localhost:8080/",
          "height": 307
        },
        "outputId": "d58d5d0f-10be-4754-bff9-54398af5ba58"
      },
      "source": [
        "def train_and_test_model(\n",
        "        model, X_train=X_train, y_train=y_train, \n",
        "        X_test=X_test, y_test=y_test, **kwargs):\n",
        "    model.fit(X_train, y_train, **kwargs)\n",
        "    y_pred = model.predict(X_test)\n",
        "\n",
        "    plt.scatter(X_test, y_test,  color='black')\n",
        "    plt.plot(X_test, y_pred, color='blue', linewidth=3)\n",
        "    plt.xticks(())\n",
        "    plt.yticks(())\n",
        "    plt.show()\n",
        "\n",
        "    r2 = sklearn.metrics.r2_score(y_true=y_test, y_pred=y_pred)\n",
        "    mae = mean_absolute_error(y_true=y_test, y_pred=y_pred)\n",
        "    mse = mean_squared_error(y_true=y_test, y_pred=y_pred)\n",
        "    return model, r2, mae ,mse\n",
        "\n",
        "model, r2, mae, mse = train_and_test_model(\n",
        "    model = sklearn.linear_model.LinearRegression(), \n",
        "    X_train=X_train[[\"Size Num\"]], y_train=y_train[\"Price\"], \n",
        "    X_test=X_test[[\"Size Num\"]], y_test=y_test[\"Price\"])\n",
        "print(\"R^2 for prediction of 'Price' given size: {:.2f}\".format(r2))\n",
        "print(\"Mean absolute error for prediction of 'Price': {:.2f}\".format(mae))\n",
        "print(\"Mean squared error for prediction of 'Price': {:.2f}\".format(mse))"
      ],
      "execution_count": 42,
      "outputs": [
        {
          "output_type": "display_data",
          "data": {
            "image/png": "[encoded data removed]",
            "text/plain": [
              "<Figure size 432x288 with 1 Axes>"
            ]
          },
          "metadata": {
            "tags": []
          }
        },
        {
          "output_type": "stream",
          "text": [
            "R^2 for prediction of 'Price' given size: 0.63\n",
            "Mean absolute error for prediction of 'Price': 569604.56\n",
            "Mean squared error for prediction of 'Price': 820569506044.59\n"
          ],
          "name": "stdout"
        }
      ]
    },
    {
      "cell_type": "code",
      "metadata": {
        "id": "t6VDy_A3cr48",
        "colab_type": "code",
        "colab": {}
      },
      "source": [
        "print(model.predict([[3000]]))"
      ],
      "execution_count": null,
      "outputs": []
    },
    {
      "cell_type": "markdown",
      "metadata": {
        "id": "Hy3LGNEOFkl8",
        "colab_type": "text"
      },
      "source": [
        "Conclusion"
      ]
    },
    {
      "cell_type": "markdown",
      "metadata": {
        "id": "R_wO8H4ZFleZ",
        "colab_type": "text"
      },
      "source": [
        "Both Linear Regression Model and Neural Network perform sufficiently well in predictiong the prices of property. This not strange because the properties are more complex that the feature we use here in the project. In particular, the summary statistics seen in the EDA show that the neighborhood alone accounts for massive differences in property prices. A proper price prediction model for new properties would therefore require more detailed features as scraped from the property listing itself rather than just the overview page that has been done."
      ]
    }
  ]
}